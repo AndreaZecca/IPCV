{
 "cells": [
  {
   "cell_type": "markdown",
   "metadata": {
    "id": "dn6TLXlp6-sy"
   },
   "source": [
    "# Computer Vision and Image Processing - Lab Session 4\n",
    "\n",
    "Content:\n",
    "1. Introduction to Pytorch (from University of Amsterdam https://uvadlc.github.io)\n",
    "2. Neural Networks with pytorch\n",
    "3. Training loop"
   ]
  },
  {
   "cell_type": "markdown",
   "metadata": {
    "id": "XwNURhm8fhOL"
   },
   "source": [
    "# Import Dependencies"
   ]
  },
  {
   "cell_type": "code",
   "execution_count": 3,
   "metadata": {
    "executionInfo": {
     "elapsed": 6,
     "status": "ok",
     "timestamp": 1685023666150,
     "user": {
      "displayName": "Andrea Zecca",
      "userId": "10151661405184412690"
     },
     "user_tz": -120
    },
    "id": "BVQZKvyufiKb"
   },
   "outputs": [],
   "source": [
    "import math\n",
    "import random\n",
    "import torch\n",
    "import torchvision\n",
    "import torch.nn as nn\n",
    "import numpy as np\n",
    "import matplotlib.pyplot as plt\n",
    "import os\n",
    "from tqdm.notebook import tqdm\n",
    "import time"
   ]
  },
  {
   "cell_type": "markdown",
   "metadata": {
    "id": "H0-AgE93gCN0"
   },
   "source": [
    "## The Basics of PyTorch\n",
    "\n",
    "We will start with reviewing the very basic concepts of PyTorch. As a prerequisite, we recommend to be familiar with the `numpy` package as most machine learning frameworks are based on very similar concepts. If you are not familiar with numpy yet, don't worry: here is a [tutorial](https://numpy.org/devdocs/user/quickstart.html) to go through. \n",
    "\n",
    "So, let's start with importing PyTorch. The package is called `torch`, based on its original framework [Torch](http://torch.ch/). As a first step, we can check its version:"
   ]
  },
  {
   "cell_type": "code",
   "execution_count": 4,
   "metadata": {
    "colab": {
     "base_uri": "https://localhost:8080/"
    },
    "executionInfo": {
     "elapsed": 106,
     "status": "ok",
     "timestamp": 1685023667868,
     "user": {
      "displayName": "Andrea Zecca",
      "userId": "10151661405184412690"
     },
     "user_tz": -120
    },
    "id": "QC29pQZtfzoX",
    "outputId": "0e736e8a-ecec-4eea-a9a3-7ef25dd47319"
   },
   "outputs": [
    {
     "name": "stdout",
     "output_type": "stream",
     "text": [
      "Using torch 2.0.1+cu118\n"
     ]
    }
   ],
   "source": [
    "import torch\n",
    "print(\"Using torch\", torch.__version__)"
   ]
  },
  {
   "cell_type": "markdown",
   "metadata": {
    "id": "dgXBvsGKfuW2"
   },
   "source": [
    "# Reproducibility\n",
    "When **developing and debugging** Neural Networks is desirable to have a deterministic behaviour. For this reason, we are going to disable all the sources of randomness. Please note that completely reproducible results are not guaranteed across PyTorch releases, individual commits or different platforms. You can find more detailed information at this [page](https://pytorch.org/docs/stable/notes/randomness.html).\n",
    "Please note that the flag `cudnn.benchmark = False` disable the auto-tuner that selects the optimal set of algorithms for your hardware and usually leads to slower runtime. "
   ]
  },
  {
   "cell_type": "code",
   "execution_count": 5,
   "metadata": {
    "executionInfo": {
     "elapsed": 101,
     "status": "ok",
     "timestamp": 1685023667870,
     "user": {
      "displayName": "Andrea Zecca",
      "userId": "10151661405184412690"
     },
     "user_tz": -120
    },
    "id": "aA2TAJhHfpff"
   },
   "outputs": [],
   "source": [
    "def fix_random(seed: int) -> None:\n",
    "    \"\"\"Fix all the possible sources of randomness.\n",
    "\n",
    "    Args:\n",
    "        seed: the seed to use. \n",
    "    \"\"\"\n",
    "    np.random.seed(seed)\n",
    "    random.seed(seed)\n",
    "    torch.manual_seed(seed)\n",
    "    torch.cuda.manual_seed(seed)\n",
    "    \n",
    "    torch.backends.cudnn.benchmark = False\n",
    "    torch.backends.cudnn.deterministic = True        \n",
    "\n",
    "fix_random(42)"
   ]
  },
  {
   "cell_type": "markdown",
   "metadata": {
    "id": "mFEQCaKNjeja"
   },
   "source": [
    "# Intro to Pytorch!\n"
   ]
  },
  {
   "cell_type": "markdown",
   "metadata": {
    "id": "ngFCfpwCgREI"
   },
   "source": [
    "### Tensors\n",
    "\n",
    "Tensors are the PyTorch equivalent to Numpy arrays, with the addition to also have support for GPU acceleration (more on that later).\n",
    "The name \"tensor\" is a generalization of concepts you already know. For instance, a vector is a 1-D tensor, and a matrix a 2-D tensor. When working with neural networks, we will use tensors of various shapes and number of dimensions.\n",
    "\n",
    "Most common functions you know from numpy can be used on tensors as well. Actually, since numpy arrays are so similar to tensors, we can convert most tensors to numpy arrays (and back) but we don't need it too often.\n",
    "\n",
    "#### Initialization\n",
    "\n",
    "Let's first start by looking at different ways of creating a tensor. There are many possible options, the simplest one is to call `torch.Tensor` passing the desired shape as input argument:"
   ]
  },
  {
   "cell_type": "code",
   "execution_count": 6,
   "metadata": {
    "colab": {
     "base_uri": "https://localhost:8080/"
    },
    "executionInfo": {
     "elapsed": 101,
     "status": "ok",
     "timestamp": 1685023667871,
     "user": {
      "displayName": "Andrea Zecca",
      "userId": "10151661405184412690"
     },
     "user_tz": -120
    },
    "id": "uDQiOHawgFPf",
    "outputId": "e4183f36-8c62-4326-8706-9812bea1f02e"
   },
   "outputs": [
    {
     "name": "stdout",
     "output_type": "stream",
     "text": [
      "tensor([[[2.4292e+37, 4.5642e-41, 5.9042e+32, 4.5642e-41],\n",
      "         [1.5993e+37, 4.5642e-41, 1.8517e+37, 4.5642e-41],\n",
      "         [8.0473e+27, 4.5642e-41, 8.0474e+27, 4.5642e-41]],\n",
      "\n",
      "        [[8.0474e+27, 4.5642e-41, 2.6393e+37, 4.5642e-41],\n",
      "         [2.7078e+37, 4.5642e-41, 1.3459e+37, 4.5642e-41],\n",
      "         [2.4725e+37, 4.5642e-41, 8.0474e+27, 4.5642e-41]]])\n"
     ]
    }
   ],
   "source": [
    "x = torch.Tensor(2, 3, 4)\n",
    "print(x)"
   ]
  },
  {
   "cell_type": "markdown",
   "metadata": {
    "id": "hLIXyENcgWh4"
   },
   "source": [
    "The function `torch.Tensor` allocates memory for the desired tensor, but reuses any values that have already been in the memory. To directly assign values to the tensor during initialization, there are many alternatives including:\n",
    "\n",
    "* `torch.zeros`: Creates a tensor filled with zeros\n",
    "* `torch.ones`: Creates a tensor filled with ones\n",
    "* `torch.rand`: Creates a tensor with random values uniformly sampled between 0 and 1\n",
    "* `torch.randn`: Creates a tensor with random values sampled from a normal distribution with mean 0 and variance 1\n",
    "* `torch.arange`: Creates a tensor containing the values $N,N+1,N+2,...,M$\n",
    "* `torch.Tensor` (input list): Creates a tensor from the list elements you provide"
   ]
  },
  {
   "cell_type": "code",
   "execution_count": 7,
   "metadata": {
    "colab": {
     "base_uri": "https://localhost:8080/"
    },
    "executionInfo": {
     "elapsed": 95,
     "status": "ok",
     "timestamp": 1685023667872,
     "user": {
      "displayName": "Andrea Zecca",
      "userId": "10151661405184412690"
     },
     "user_tz": -120
    },
    "id": "UyBYyCOegTDg",
    "outputId": "c823fb6b-8a86-474d-e60e-7d8cbea421bd"
   },
   "outputs": [
    {
     "name": "stdout",
     "output_type": "stream",
     "text": [
      "tensor([[1., 2.],\n",
      "        [3., 4.]])\n"
     ]
    }
   ],
   "source": [
    "# Create a tensor from a (nested) list\n",
    "x = torch.Tensor([[1, 2], [3, 4]])\n",
    "print(x)"
   ]
  },
  {
   "cell_type": "code",
   "execution_count": 8,
   "metadata": {
    "colab": {
     "base_uri": "https://localhost:8080/"
    },
    "executionInfo": {
     "elapsed": 90,
     "status": "ok",
     "timestamp": 1685023667874,
     "user": {
      "displayName": "Andrea Zecca",
      "userId": "10151661405184412690"
     },
     "user_tz": -120
    },
    "id": "37LE_1X0gZB2",
    "outputId": "405a87a5-143b-43bd-9eca-b89d3b80a65c"
   },
   "outputs": [
    {
     "name": "stdout",
     "output_type": "stream",
     "text": [
      "tensor([[[0.8823, 0.9150, 0.3829, 0.9593],\n",
      "         [0.3904, 0.6009, 0.2566, 0.7936],\n",
      "         [0.9408, 0.1332, 0.9346, 0.5936]],\n",
      "\n",
      "        [[0.8694, 0.5677, 0.7411, 0.4294],\n",
      "         [0.8854, 0.5739, 0.2666, 0.6274],\n",
      "         [0.2696, 0.4414, 0.2969, 0.8317]]])\n",
      "torch.Size([2, 3, 4])\n"
     ]
    }
   ],
   "source": [
    "# Create a tensor with random values between 0 and 1 with the shape [2, 3, 4]\n",
    "x = torch.rand(2, 3, 4)\n",
    "print(x)\n",
    "print(x.shape)"
   ]
  },
  {
   "cell_type": "markdown",
   "metadata": {
    "id": "Ew-ZZuvigdsw"
   },
   "source": [
    "#### Tensor to Numpy, and Numpy to Tensor\n",
    "\n",
    "Tensors can be converted to numpy arrays, and numpy arrays back to tensors. To transform a numpy array into a tensor, we can use the function `torch.from_numpy`:"
   ]
  },
  {
   "cell_type": "code",
   "execution_count": 9,
   "metadata": {
    "colab": {
     "base_uri": "https://localhost:8080/"
    },
    "executionInfo": {
     "elapsed": 79,
     "status": "ok",
     "timestamp": 1685023667875,
     "user": {
      "displayName": "Andrea Zecca",
      "userId": "10151661405184412690"
     },
     "user_tz": -120
    },
    "id": "xVwTEf8DgeDm",
    "outputId": "066d4e25-902b-4037-cec1-e6c856ada7d2"
   },
   "outputs": [
    {
     "name": "stdout",
     "output_type": "stream",
     "text": [
      "Numpy array: [[1 2]\n",
      " [3 4]]\n",
      "PyTorch tensor: tensor([[1, 2],\n",
      "        [3, 4]])\n"
     ]
    }
   ],
   "source": [
    "np_arr = np.array([[1, 2], [3, 4]])\n",
    "tensor = torch.from_numpy(np_arr)\n",
    "# they are two references of the same object, so updating one, will affect the other\n",
    "print(\"Numpy array:\", np_arr)\n",
    "print(\"PyTorch tensor:\", tensor)"
   ]
  },
  {
   "cell_type": "markdown",
   "metadata": {
    "id": "mWn5KkHXghtv"
   },
   "source": [
    "To transform a PyTorch tensor back to a numpy array, we can use the function `.numpy()` on tensors:"
   ]
  },
  {
   "cell_type": "code",
   "execution_count": 10,
   "metadata": {
    "colab": {
     "base_uri": "https://localhost:8080/"
    },
    "executionInfo": {
     "elapsed": 73,
     "status": "ok",
     "timestamp": 1685023667876,
     "user": {
      "displayName": "Andrea Zecca",
      "userId": "10151661405184412690"
     },
     "user_tz": -120
    },
    "id": "zDu5t-bUgh79",
    "outputId": "24a298b3-407d-4e81-a439-e97c9e6b2b11"
   },
   "outputs": [
    {
     "name": "stdout",
     "output_type": "stream",
     "text": [
      "PyTorch tensor: tensor([0, 1, 2, 3])\n",
      "Numpy array: [0 1 2 3]\n"
     ]
    }
   ],
   "source": [
    "tensor = torch.arange(4)\n",
    "np_arr = tensor.numpy()\n",
    "print(\"PyTorch tensor:\", tensor)\n",
    "print(\"Numpy array:\", np_arr)"
   ]
  },
  {
   "cell_type": "markdown",
   "metadata": {
    "id": "SRgeGtXmglxN"
   },
   "source": [
    "The conversion of tensors to numpy require the tensor to be on the CPU, and not the GPU (more on GPU support in a later section). In case you have a tensor on GPU, you need to call `.cpu()` on the tensor beforehand. Hence, you get a line like `np_arr = tensor.cpu().numpy()`."
   ]
  },
  {
   "cell_type": "markdown",
   "metadata": {
    "id": "If8Fn80mguoR"
   },
   "source": [
    "#### Basic Operations\n"
   ]
  },
  {
   "cell_type": "code",
   "execution_count": 11,
   "metadata": {
    "colab": {
     "base_uri": "https://localhost:8080/"
    },
    "executionInfo": {
     "elapsed": 69,
     "status": "ok",
     "timestamp": 1685023667878,
     "user": {
      "displayName": "Andrea Zecca",
      "userId": "10151661405184412690"
     },
     "user_tz": -120
    },
    "id": "FTS9VAVWgmHG",
    "outputId": "ed2f3043-244f-4406-f071-e7d104d36a6f"
   },
   "outputs": [
    {
     "name": "stdout",
     "output_type": "stream",
     "text": [
      "X1 tensor([[0.1053, 0.2695, 0.3588],\n",
      "        [0.1994, 0.5472, 0.0062]])\n",
      "X2 tensor([[0.9516, 0.0753, 0.8860],\n",
      "        [0.5832, 0.3376, 0.8090]])\n",
      "Y tensor([[1.0569, 0.3448, 1.2448],\n",
      "        [0.7826, 0.8848, 0.8151]])\n"
     ]
    }
   ],
   "source": [
    "x1 = torch.rand(2, 3)\n",
    "x2 = torch.rand(2, 3)\n",
    "y = x1 + x2\n",
    "\n",
    "print(\"X1\", x1)\n",
    "print(\"X2\", x2)\n",
    "print(\"Y\", y)"
   ]
  },
  {
   "cell_type": "code",
   "execution_count": 12,
   "metadata": {
    "colab": {
     "base_uri": "https://localhost:8080/"
    },
    "executionInfo": {
     "elapsed": 64,
     "status": "ok",
     "timestamp": 1685023667879,
     "user": {
      "displayName": "Andrea Zecca",
      "userId": "10151661405184412690"
     },
     "user_tz": -120
    },
    "id": "TBHw7x7jgxpD",
    "outputId": "5a07396a-7d2e-4629-a657-f84fd1405d61"
   },
   "outputs": [
    {
     "name": "stdout",
     "output_type": "stream",
     "text": [
      "X1 (before) tensor([[0.5779, 0.9040, 0.5547],\n",
      "        [0.3423, 0.6343, 0.3644]])\n",
      "X2 (before) tensor([[0.7104, 0.9464, 0.7890],\n",
      "        [0.2814, 0.7886, 0.5895]])\n",
      "X1 (after) tensor([[0.5779, 0.9040, 0.5547],\n",
      "        [0.3423, 0.6343, 0.3644]])\n",
      "X2 (after) tensor([[1.2884, 1.8504, 1.3437],\n",
      "        [0.6237, 1.4230, 0.9539]])\n"
     ]
    }
   ],
   "source": [
    "x1 = torch.rand(2, 3)\n",
    "x2 = torch.rand(2, 3)\n",
    "print(\"X1 (before)\", x1)\n",
    "print(\"X2 (before)\", x2)\n",
    "\n",
    "x2.add_(x1) # an underscore means it's a inplace operation. So we are updating x2 with x2+x1\n",
    "print(\"X1 (after)\", x1)\n",
    "print(\"X2 (after)\", x2)"
   ]
  },
  {
   "cell_type": "markdown",
   "metadata": {
    "id": "Tsvfxz_7g0jZ"
   },
   "source": [
    "In-place operations are usually marked with a underscore postfix (e.g. \"add_\" instead of \"add\").\n",
    "\n",
    "Another common operation aims at changing the shape of a tensor. A tensor of size (2,3) can be re-organized to any other shape with the same number of elements (e.g. a tensor of size (6), or (3,2), ...). In PyTorch, this operation is called `view`:"
   ]
  },
  {
   "cell_type": "code",
   "execution_count": 13,
   "metadata": {
    "colab": {
     "base_uri": "https://localhost:8080/"
    },
    "executionInfo": {
     "elapsed": 58,
     "status": "ok",
     "timestamp": 1685023667880,
     "user": {
      "displayName": "Andrea Zecca",
      "userId": "10151661405184412690"
     },
     "user_tz": -120
    },
    "id": "FJ3akcLwg5QO",
    "outputId": "d5b9875c-da62-4795-9b40-5f856637b692"
   },
   "outputs": [
    {
     "name": "stdout",
     "output_type": "stream",
     "text": [
      "X tensor([0, 1, 2, 3, 4, 5])\n"
     ]
    }
   ],
   "source": [
    "x = torch.arange(6)\n",
    "print(\"X\", x)"
   ]
  },
  {
   "cell_type": "code",
   "execution_count": 14,
   "metadata": {
    "colab": {
     "base_uri": "https://localhost:8080/"
    },
    "executionInfo": {
     "elapsed": 53,
     "status": "ok",
     "timestamp": 1685023667881,
     "user": {
      "displayName": "Andrea Zecca",
      "userId": "10151661405184412690"
     },
     "user_tz": -120
    },
    "id": "mgPBjXQbg5Sn",
    "outputId": "210719d0-cfcb-4a96-b0af-00347a210c76"
   },
   "outputs": [
    {
     "name": "stdout",
     "output_type": "stream",
     "text": [
      "X tensor([[0, 1, 2],\n",
      "        [3, 4, 5]])\n"
     ]
    }
   ],
   "source": [
    "x = x.view(2, 3) # the view of a tensor return another reference to the same object\n",
    "print(\"X\", x)"
   ]
  },
  {
   "cell_type": "code",
   "execution_count": 15,
   "metadata": {
    "colab": {
     "base_uri": "https://localhost:8080/"
    },
    "executionInfo": {
     "elapsed": 48,
     "status": "ok",
     "timestamp": 1685023667882,
     "user": {
      "displayName": "Andrea Zecca",
      "userId": "10151661405184412690"
     },
     "user_tz": -120
    },
    "id": "EmgJr1nAg-dn",
    "outputId": "c57f7437-b197-4431-b5b9-978b781eca98"
   },
   "outputs": [
    {
     "name": "stdout",
     "output_type": "stream",
     "text": [
      "X tensor([[0, 3],\n",
      "        [1, 4],\n",
      "        [2, 5]])\n"
     ]
    }
   ],
   "source": [
    "x = x.permute(1, 0) # Swapping dimension 0 and 1 => it returns another reference to the same object\n",
    "print(\"X\", x)"
   ]
  },
  {
   "cell_type": "markdown",
   "metadata": {
    "id": "6EURHdNfiRQU"
   },
   "source": [
    "### GPU support"
   ]
  },
  {
   "cell_type": "code",
   "execution_count": 16,
   "metadata": {
    "colab": {
     "base_uri": "https://localhost:8080/"
    },
    "executionInfo": {
     "elapsed": 43,
     "status": "ok",
     "timestamp": 1685023667883,
     "user": {
      "displayName": "Andrea Zecca",
      "userId": "10151661405184412690"
     },
     "user_tz": -120
    },
    "id": "WOAcsnKoiTub",
    "outputId": "d8c69437-5c9c-4430-b95f-c75ae17bb9fc"
   },
   "outputs": [
    {
     "name": "stdout",
     "output_type": "stream",
     "text": [
      "Is the GPU available? True\n"
     ]
    }
   ],
   "source": [
    "gpu_avail = torch.cuda.is_available()\n",
    "print(f\"Is the GPU available? {gpu_avail}\")"
   ]
  },
  {
   "cell_type": "code",
   "execution_count": 17,
   "metadata": {
    "colab": {
     "base_uri": "https://localhost:8080/"
    },
    "executionInfo": {
     "elapsed": 39,
     "status": "ok",
     "timestamp": 1685023667884,
     "user": {
      "displayName": "Andrea Zecca",
      "userId": "10151661405184412690"
     },
     "user_tz": -120
    },
    "id": "gO-TPsWwjN5z",
    "outputId": "69406c66-eec6-409c-de51-0d0f917933ef"
   },
   "outputs": [
    {
     "name": "stdout",
     "output_type": "stream",
     "text": [
      "Device cuda\n"
     ]
    }
   ],
   "source": [
    "device = torch.device(\"cuda\") if torch.cuda.is_available() else torch.device(\"cpu\")\n",
    "print(\"Device\", device)"
   ]
  },
  {
   "cell_type": "code",
   "execution_count": 18,
   "metadata": {
    "colab": {
     "base_uri": "https://localhost:8080/"
    },
    "executionInfo": {
     "elapsed": 4433,
     "status": "ok",
     "timestamp": 1685023672284,
     "user": {
      "displayName": "Andrea Zecca",
      "userId": "10151661405184412690"
     },
     "user_tz": -120
    },
    "id": "WIxwjjGGit23",
    "outputId": "6d2ea497-1c31-430e-8114-5c3366163327"
   },
   "outputs": [
    {
     "name": "stdout",
     "output_type": "stream",
     "text": [
      "X tensor([[0., 0., 0.],\n",
      "        [0., 0., 0.]], device='cuda:0')\n"
     ]
    }
   ],
   "source": [
    "x = torch.zeros(2, 3)\n",
    "x = x.to(device)\n",
    "print(\"X\", x)"
   ]
  },
  {
   "cell_type": "markdown",
   "metadata": {
    "id": "yfnrkVv1jQRM"
   },
   "source": [
    "In case you have a GPU, you should now see the attribute `device='cuda:0'` being printed next to your tensor. The zero next to cuda indicates that this is the zero-th GPU device on your computer. PyTorch also supports multi-GPU systems, but this you will only need once you have very big networks to train (if interested, see the [PyTorch documentation](https://pytorch.org/docs/stable/distributed.html#distributed-basics)). We can also compare the runtime of a large matrix multiplication on the CPU with a operation on the GPU:"
   ]
  },
  {
   "cell_type": "code",
   "execution_count": 19,
   "metadata": {
    "colab": {
     "base_uri": "https://localhost:8080/"
    },
    "executionInfo": {
     "elapsed": 7391,
     "status": "ok",
     "timestamp": 1685023679666,
     "user": {
      "displayName": "Andrea Zecca",
      "userId": "10151661405184412690"
     },
     "user_tz": -120
    },
    "id": "CT8SX9k2jV-J",
    "outputId": "0a6d7335-88b2-4b60-e501-fadecdc38d8a"
   },
   "outputs": [
    {
     "name": "stdout",
     "output_type": "stream",
     "text": [
      "CPU time: 3.56535s\n",
      "GPU time: 0.08762s\n"
     ]
    }
   ],
   "source": [
    "x = torch.randn(5000, 5000)\n",
    "\n",
    "## CPU version\n",
    "start_time = time.time()\n",
    "_ = torch.matmul(x, x)\n",
    "end_time = time.time()\n",
    "print(f\"CPU time: {(end_time - start_time):6.5f}s\")\n",
    "\n",
    "## GPU version\n",
    "x = x.to(device)\n",
    "_ = torch.matmul(x, x)  # First operation to 'burn in' GPU\n",
    "# CUDA is asynchronous, so we need to use different timing functions\n",
    "start = torch.cuda.Event(enable_timing=True)\n",
    "end = torch.cuda.Event(enable_timing=True)\n",
    "start.record()\n",
    "_ = torch.matmul(x, x)\n",
    "end.record()\n",
    "torch.cuda.synchronize()  # Waits for everything to finish running on the GPU\n",
    "print(f\"GPU time: {0.001 * start.elapsed_time(end):6.5f}s\")  # Milliseconds to seconds"
   ]
  },
  {
   "cell_type": "markdown",
   "metadata": {
    "id": "tXFGealwhUTM"
   },
   "source": [
    "### Dynamic Computation Graph and Backpropagation\n",
    "\n",
    "One of the main reasons for using PyTorch in Deep Learning projects is that we can automatically get **gradients/derivatives** of functions that we define. We will mainly use PyTorch for implementing neural networks, and they are just fancy functions. If we use weight matrices in our function that we want to learn, then those are called the **parameters** or simply the **weights**.\n",
    "\n",
    "If our neural network would output a single scalar value, we would talk about taking the **derivative**, but you will see that quite often we will have **multiple** output variables (\"values\"); in that case we talk about **gradients**. It's a more general term.\n",
    "\n",
    "Given an input $\\mathbf{x}$, we define our function by **manipulating** that input, usually by matrix-multiplications with weight matrices and additions with so-called bias vectors. As we manipulate our input, we are automatically creating a **computational graph**. This graph shows how to arrive at our output from our input. \n",
    "PyTorch is a **define-by-run** framework; this means that we can just do our manipulations, and PyTorch will keep track of that graph for us. Thus, we create a dynamic computation graph along the way.\n",
    "\n",
    "So, to recap: the only thing we have to do is to compute the **output**, and then we can ask PyTorch to automatically get the **gradients**. \n",
    "\n",
    "> **Note:  Why do we want gradients?** Consider that we have defined a function, a neural net, that is supposed to compute a certain output $y$ for an input vector $\\mathbf{x}$. We then define an **error measure** that tells us how wrong our network is; how bad it is in predicting output $y$ from input $\\mathbf{x}$. Based on this error measure, we can use the gradients to **update** the weights $\\mathbf{W}$ that were responsible for the output, so that the next time we present input $\\mathbf{x}$ to our network, the output will be closer to what we want.\n",
    "\n",
    "The first thing we have to do is to specify which tensors require gradients. By default, when we create a tensor, it does not require gradients."
   ]
  },
  {
   "cell_type": "code",
   "execution_count": 20,
   "metadata": {
    "colab": {
     "base_uri": "https://localhost:8080/"
    },
    "executionInfo": {
     "elapsed": 56,
     "status": "ok",
     "timestamp": 1685023679667,
     "user": {
      "displayName": "Andrea Zecca",
      "userId": "10151661405184412690"
     },
     "user_tz": -120
    },
    "id": "uxAXf-n4hUzs",
    "outputId": "b860e92c-f319-41c5-8fe0-1b82a8c97a24"
   },
   "outputs": [
    {
     "name": "stdout",
     "output_type": "stream",
     "text": [
      "False\n"
     ]
    }
   ],
   "source": [
    "x = torch.ones((3,))\n",
    "print(x.requires_grad)"
   ]
  },
  {
   "cell_type": "markdown",
   "metadata": {
    "id": "sX5lX1p-hYar"
   },
   "source": [
    "We can change this for an existing tensor using the function `requires_grad_()` (underscore indicating that this is a in-place operation). Alternatively, when creating a tensor, you can pass the argument `requires_grad=True` to most initializers we have seen above."
   ]
  },
  {
   "cell_type": "code",
   "execution_count": 21,
   "metadata": {
    "colab": {
     "base_uri": "https://localhost:8080/"
    },
    "executionInfo": {
     "elapsed": 52,
     "status": "ok",
     "timestamp": 1685023679668,
     "user": {
      "displayName": "Andrea Zecca",
      "userId": "10151661405184412690"
     },
     "user_tz": -120
    },
    "id": "f5-C-iAZhYyE",
    "outputId": "149289dd-9f50-4239-b147-cfaeb3377446"
   },
   "outputs": [
    {
     "name": "stdout",
     "output_type": "stream",
     "text": [
      "True\n"
     ]
    }
   ],
   "source": [
    "x.requires_grad_(True)\n",
    "print(x.requires_grad)"
   ]
  },
  {
   "cell_type": "markdown",
   "metadata": {
    "id": "DRFyBLqxhaYw"
   },
   "source": [
    "In order to get familiar with the concept of a computation graph, we will create one for the following function:\n",
    "\n",
    "$$y = \\frac{1}{|x|}\\sum_i \\left[(x_i + 2)^2 + 3\\right]$$\n",
    "\n",
    "You could imagine that $x$ are our parameters, and we want to optimize (either maximize or minimize) the output $y$. For this, we want to obtain the gradients $\\partial y / \\partial \\mathbf{x}$. For our example, we'll use $\\mathbf{x}=[0,1,2]$ as our input."
   ]
  },
  {
   "cell_type": "code",
   "execution_count": 22,
   "metadata": {
    "colab": {
     "base_uri": "https://localhost:8080/"
    },
    "executionInfo": {
     "elapsed": 45,
     "status": "ok",
     "timestamp": 1685023679669,
     "user": {
      "displayName": "Andrea Zecca",
      "userId": "10151661405184412690"
     },
     "user_tz": -120
    },
    "id": "1yWKQVIBhcwz",
    "outputId": "8f6c2398-42b3-4c9a-9bc1-a6903a28ee4b"
   },
   "outputs": [
    {
     "name": "stdout",
     "output_type": "stream",
     "text": [
      "X tensor([0., 1., 2.], requires_grad=True)\n"
     ]
    }
   ],
   "source": [
    "x = torch.arange(3, dtype=torch.float32, requires_grad=True) # Only float tensors can have gradients\n",
    "print(\"X\", x)"
   ]
  },
  {
   "cell_type": "markdown",
   "metadata": {
    "id": "mLQ-m-C4hhSQ"
   },
   "source": [
    "Now let's build the computation graph step by step. You can combine multiple operations in a single line, but we will separate them here to get a better understanding of how each operation is added to the computation graph."
   ]
  },
  {
   "cell_type": "code",
   "execution_count": 23,
   "metadata": {
    "colab": {
     "base_uri": "https://localhost:8080/"
    },
    "executionInfo": {
     "elapsed": 40,
     "status": "ok",
     "timestamp": 1685023679670,
     "user": {
      "displayName": "Andrea Zecca",
      "userId": "10151661405184412690"
     },
     "user_tz": -120
    },
    "id": "49u8xvJ_hjqg",
    "outputId": "9556ddce-2377-4178-e6d8-2fe87495accd"
   },
   "outputs": [
    {
     "name": "stdout",
     "output_type": "stream",
     "text": [
      "Y tensor(12.6667, grad_fn=<MeanBackward0>)\n"
     ]
    }
   ],
   "source": [
    "a = x + 2\n",
    "b = a ** 2\n",
    "c = b + 3\n",
    "y = c.mean()\n",
    "print(\"Y\", y)"
   ]
  },
  {
   "cell_type": "markdown",
   "metadata": {
    "id": "IuPSEbQmhnUG"
   },
   "source": [
    "Using the statements above, we have created a computation graph that looks similar to the figure below:\n",
    "\n",
    "![pytorch_computation_graph.svg](data:image/svg+xml;base64,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)\n",
    "\n",
    "We calculate $a$ based on the inputs $x$ and the constant $2$, $b$ is $a$ squared, and so on. The visualization is an abstraction of the dependencies between inputs and outputs of the operations we have applied.\n",
    "Each node of the computation graph has automatically defined a function for calculating the gradients with respect to its inputs, `grad_fn`. You can see this when we printed the output tensor $y$. This is why the computation graph is usually visualized in the reverse direction (arrows point from the result to the inputs). We can perform backpropagation on the computation graph by calling the function `backward()` on the last output, which effectively calculates the gradients for each tensor that has the property `requires_grad=True`:"
   ]
  },
  {
   "cell_type": "code",
   "execution_count": 24,
   "metadata": {
    "executionInfo": {
     "elapsed": 35,
     "status": "ok",
     "timestamp": 1685023679671,
     "user": {
      "displayName": "Andrea Zecca",
      "userId": "10151661405184412690"
     },
     "user_tz": -120
    },
    "id": "34H59ODhhnod"
   },
   "outputs": [],
   "source": [
    "y.backward()"
   ]
  },
  {
   "cell_type": "markdown",
   "metadata": {
    "id": "yj9ls_fSiFzT"
   },
   "source": [
    "`x.grad` will now contain the gradient $\\partial y/ \\partial \\mathcal{x}$, and this gradient indicates how a change in $\\mathbf{x}$ will affect output $y$ given the current input $\\mathbf{x}=[0,1,2]$:"
   ]
  },
  {
   "cell_type": "code",
   "execution_count": 25,
   "metadata": {
    "colab": {
     "base_uri": "https://localhost:8080/"
    },
    "executionInfo": {
     "elapsed": 38,
     "status": "ok",
     "timestamp": 1685023679675,
     "user": {
      "displayName": "Andrea Zecca",
      "userId": "10151661405184412690"
     },
     "user_tz": -120
    },
    "id": "pUzoypZKiGNi",
    "outputId": "7e5430ec-e606-4f25-e756-61e3e6c141d0"
   },
   "outputs": [
    {
     "name": "stdout",
     "output_type": "stream",
     "text": [
      "tensor([1.3333, 2.0000, 2.6667])\n"
     ]
    }
   ],
   "source": [
    "print(x.grad)"
   ]
  },
  {
   "cell_type": "markdown",
   "metadata": {
    "id": "SAjQg5reiHwa"
   },
   "source": [
    "We can also verify these gradients by hand. We will calculate the gradients using the chain rule, in the same way as PyTorch did it:\n",
    "\n",
    "$$\\frac{\\partial y}{\\partial x_i} = \\frac{\\partial y}{\\partial c_i}\\frac{\\partial c_i}{\\partial b_i}\\frac{\\partial b_i}{\\partial a_i}\\frac{\\partial a_i}{\\partial x_i}$$\n",
    "\n",
    "Note that we have simplified this equation to index notation, and by using the fact that all operation besides the mean do not combine the elements in the tensor. The partial derivatives are:\n",
    "\n",
    "$$\n",
    "\\frac{\\partial a_i}{\\partial x_i} = 1,\\hspace{1cm}\n",
    "\\frac{\\partial b_i}{\\partial a_i} = 2\\cdot a_i\\hspace{1cm}\n",
    "\\frac{\\partial c_i}{\\partial b_i} = 1\\hspace{1cm}\n",
    "\\frac{\\partial y}{\\partial c_i} = \\frac{1}{3}\n",
    "$$\n",
    "\n",
    "Hence, with the input being $\\mathbf{x}=[0,1,2]$, our gradients are $\\partial y/\\partial \\mathbf{x}=[4/3,2,8/3]$. The previous code cell should have printed the same result."
   ]
  },
  {
   "cell_type": "markdown",
   "metadata": {
    "id": "rMpYB7E3jl65"
   },
   "source": [
    "# Let's build our first Neural Network!"
   ]
  },
  {
   "cell_type": "code",
   "execution_count": 26,
   "metadata": {
    "executionInfo": {
     "elapsed": 33,
     "status": "ok",
     "timestamp": 1685023679676,
     "user": {
      "displayName": "Andrea Zecca",
      "userId": "10151661405184412690"
     },
     "user_tz": -120
    },
    "id": "CMHWUb7Jj-Mz"
   },
   "outputs": [],
   "source": [
    "import torch\n",
    "import torchvision\n",
    "import torchvision.transforms as transforms\n",
    "from torch.utils.data import random_split, DataLoader, TensorDataset\n",
    "import torch.nn.functional as F\n",
    "import matplotlib.pyplot as plt\n",
    "import numpy as np\n",
    "import math\n",
    "from timeit import default_timer as timer\n",
    "from functools import partial\n",
    "\n",
    "plt.rcParams['figure.figsize'] = (12.0, 8.0)\n",
    "plt.rcParams['font.size'] = 16"
   ]
  },
  {
   "cell_type": "markdown",
   "metadata": {
    "id": "tl6T_miQjtDF"
   },
   "source": [
    "### prepapre the Train/Val/Test split \n",
    "We are going to classify images from CIFAR10, let's first download the dataset"
   ]
  },
  {
   "cell_type": "code",
   "execution_count": 27,
   "metadata": {
    "colab": {
     "base_uri": "https://localhost:8080/"
    },
    "executionInfo": {
     "elapsed": 11455,
     "status": "ok",
     "timestamp": 1685023691099,
     "user": {
      "displayName": "Andrea Zecca",
      "userId": "10151661405184412690"
     },
     "user_tz": -120
    },
    "id": "mheve-u1jpx3",
    "outputId": "11a90113-2ebd-4f33-9086-edd9edb05c53"
   },
   "outputs": [
    {
     "name": "stdout",
     "output_type": "stream",
     "text": [
      "Downloading http://ufldl.stanford.edu/housenumbers/train_32x32.mat to /data/train_32x32.mat\n"
     ]
    },
    {
     "name": "stderr",
     "output_type": "stream",
     "text": [
      "100%|██████████| 182040794/182040794 [00:05<00:00, 31306685.42it/s]\n"
     ]
    },
    {
     "name": "stdout",
     "output_type": "stream",
     "text": [
      "Downloading http://ufldl.stanford.edu/housenumbers/test_32x32.mat to /data/test_32x32.mat\n"
     ]
    },
    {
     "name": "stderr",
     "output_type": "stream",
     "text": [
      "100%|██████████| 64275384/64275384 [00:02<00:00, 22916707.77it/s]\n"
     ]
    }
   ],
   "source": [
    "tsfms = transforms.Compose([transforms.ToTensor(), transforms.Lambda(lambda z: z.flatten())]) \n",
    "train_ds = torchvision.datasets.SVHN(root=\"/data/\", split='train', transform=tsfms, download=True)\n",
    "test_ds = torchvision.datasets.SVHN(root=\"/data/\", split='test', transform=tsfms, download=True)\n",
    "\n",
    "n_classes = 10\n",
    "n_features = len(train_ds[0][0])"
   ]
  },
  {
   "cell_type": "code",
   "execution_count": 28,
   "metadata": {
    "colab": {
     "base_uri": "https://localhost:8080/",
     "height": 507
    },
    "executionInfo": {
     "elapsed": 465,
     "status": "ok",
     "timestamp": 1685023691512,
     "user": {
      "displayName": "Andrea Zecca",
      "userId": "10151661405184412690"
     },
     "user_tz": -120
    },
    "id": "PUlnsRp7MWuY",
    "outputId": "55ac104f-2071-4457-917c-f12db7b558b6"
   },
   "outputs": [
    {
     "data": {
      "text/plain": [
       "<matplotlib.image.AxesImage at 0x7f3a903b5000>"
      ]
     },
     "execution_count": 28,
     "metadata": {},
     "output_type": "execute_result"
    },
    {
     "data": {
      "image/png": "[encoded data removed]",
      "text/plain": [
       "<Figure size 1200x800 with 2 Axes>"
      ]
     },
     "metadata": {},
     "output_type": "display_data"
    }
   ],
   "source": [
    "f, axarr = plt.subplots(1,2, squeeze=False)\n",
    "axarr[0,0].imshow(test_ds[0][0].reshape(3,32,32).permute(1,2,0))\n",
    "axarr[0,1].imshow(train_ds[0][0].reshape(3,32,32).permute(1,2,0))"
   ]
  },
  {
   "cell_type": "markdown",
   "metadata": {
    "id": "VmPTtqPhkYBW"
   },
   "source": [
    "### We create a small validation set from the training set"
   ]
  },
  {
   "cell_type": "code",
   "execution_count": 29,
   "metadata": {
    "executionInfo": {
     "elapsed": 81,
     "status": "ok",
     "timestamp": 1685023691513,
     "user": {
      "displayName": "Andrea Zecca",
      "userId": "10151661405184412690"
     },
     "user_tz": -120
    },
    "id": "MfooUAojkBIe"
   },
   "outputs": [],
   "source": [
    "splitted_datasets = torch.utils.data.random_split(train_ds, [len(train_ds)-5000, 5000])\n",
    "actual_train_subds = splitted_datasets[0]\n",
    "valid_subds = splitted_datasets[1]"
   ]
  },
  {
   "cell_type": "markdown",
   "metadata": {
    "id": "ZR8Cj93vnSLr"
   },
   "source": [
    "#### The data loader class\n",
    "\n",
    "The class `torch.utils.data.DataLoader` represents a Python iterable over a dataset with support for automatic batching, multi-process data loading and many more features. The data loader communicates with the dataset using the function `__getitem__`, and stacks its outputs as tensors over the first dimension to form a batch.\n",
    "In contrast to the dataset class, we usually don't have to define our own data loader class, but can just create an object of it with the dataset as input. Additionally, we can configure our data loader with the following input arguments (only a selection, see full list [here](https://pytorch.org/docs/stable/data.html#torch.utils.data.DataLoader)):\n",
    "\n",
    "* `batch_size`: Number of samples to stack per batch\n",
    "* `shuffle`: If True, the data is returned in a random order. This is important during training for introducing stochasticity. \n",
    "* `num_workers`: Number of subprocesses to use for data loading. The default, 0, means that the data will be loaded in the main process which can slow down training for datasets where loading a data point takes a considerable amount of time (e.g. large images). More workers are recommended for those, but can cause issues on Windows computers. For tiny datasets as ours, 0 workers are usually faster.\n",
    "* `pin_memory`: If True, the data loader will copy Tensors into CUDA pinned memory before returning them. This can save some time for large data points on GPUs. Usually a good practice to use for a training set, but not necessarily for validation and test to save memory on the GPU.\n",
    "* `drop_last`: If True, the last batch is dropped in case it is smaller than the specified batch size. This occurs when the dataset size is not a multiple of the batch size. Only potentially helpful during training to keep a consistent batch size.\n",
    "\n",
    "Let's create a simple data loader below:"
   ]
  },
  {
   "cell_type": "code",
   "execution_count": 30,
   "metadata": {
    "executionInfo": {
     "elapsed": 81,
     "status": "ok",
     "timestamp": 1685023691514,
     "user": {
      "displayName": "Andrea Zecca",
      "userId": "10151661405184412690"
     },
     "user_tz": -120
    },
    "id": "J_7Pg2jAkH3H"
   },
   "outputs": [],
   "source": [
    "batch_size = 256\n",
    "\n",
    "train_dl = torch.utils.data.DataLoader(actual_train_subds, batch_size=batch_size, shuffle=True)\n",
    "valid_dl = torch.utils.data.DataLoader(valid_subds, batch_size=batch_size)\n",
    "test_dl = torch.utils.data.DataLoader(test_ds, batch_size=batch_size)"
   ]
  },
  {
   "cell_type": "code",
   "execution_count": 31,
   "metadata": {
    "colab": {
     "base_uri": "https://localhost:8080/"
    },
    "executionInfo": {
     "elapsed": 82,
     "status": "ok",
     "timestamp": 1685023691516,
     "user": {
      "displayName": "Andrea Zecca",
      "userId": "10151661405184412690"
     },
     "user_tz": -120
    },
    "id": "1rR2Vw5mnZjl",
    "outputId": "6a5a1c24-3336-4275-9153-9cd54e907156"
   },
   "outputs": [
    {
     "name": "stdout",
     "output_type": "stream",
     "text": [
      "Data inputs torch.Size([256, 3072]) \n",
      " tensor([[0.4078, 0.3843, 0.3569,  ..., 0.4706, 0.4667, 0.4510],\n",
      "        [0.5804, 0.5765, 0.5686,  ..., 0.5686, 0.5647, 0.5608],\n",
      "        [0.3529, 0.3020, 0.2471,  ..., 0.1059, 0.2196, 0.4275],\n",
      "        ...,\n",
      "        [0.8627, 0.8078, 0.6980,  ..., 0.9294, 0.9373, 0.9176],\n",
      "        [0.6431, 0.6471, 0.6471,  ..., 0.1569, 0.2118, 0.2039],\n",
      "        [0.2235, 0.2235, 0.2235,  ..., 0.5451, 0.5020, 0.4706]])\n",
      "Data labels torch.Size([256]) \n",
      " tensor([8, 1, 2, 3, 1, 9, 6, 7, 4, 9, 4, 1, 2, 1, 0, 8, 0, 5, 2, 1, 4, 1, 2, 3,\n",
      "        0, 3, 2, 9, 5, 7, 5, 2, 6, 6, 3, 1, 4, 3, 1, 6, 7, 2, 3, 1, 9, 5, 6, 6,\n",
      "        1, 1, 3, 3, 4, 7, 2, 8, 8, 3, 4, 9, 6, 5, 1, 0, 6, 6, 1, 4, 1, 3, 3, 6,\n",
      "        4, 8, 4, 5, 4, 8, 8, 1, 1, 1, 6, 1, 4, 2, 1, 7, 6, 8, 3, 2, 1, 3, 8, 1,\n",
      "        5, 1, 5, 6, 3, 4, 6, 3, 1, 4, 4, 4, 7, 2, 8, 4, 2, 6, 3, 3, 1, 4, 1, 2,\n",
      "        0, 9, 4, 4, 2, 9, 8, 5, 0, 6, 7, 2, 5, 0, 6, 5, 3, 3, 2, 7, 6, 2, 7, 1,\n",
      "        1, 8, 3, 7, 9, 6, 5, 4, 2, 9, 3, 0, 0, 7, 8, 3, 3, 5, 5, 2, 3, 1, 4, 3,\n",
      "        1, 4, 1, 5, 0, 4, 2, 5, 5, 0, 4, 2, 5, 5, 8, 3, 3, 5, 1, 2, 8, 4, 0, 2,\n",
      "        1, 9, 1, 0, 3, 5, 0, 3, 1, 4, 5, 7, 2, 8, 3, 4, 0, 5, 2, 3, 2, 3, 1, 1,\n",
      "        6, 1, 5, 1, 0, 3, 0, 3, 3, 4, 2, 1, 2, 1, 8, 1, 1, 7, 5, 4, 2, 7, 1, 6,\n",
      "        2, 0, 0, 2, 7, 8, 2, 1, 0, 1, 8, 4, 3, 4, 2, 3])\n"
     ]
    }
   ],
   "source": [
    "# next(iter(...)) catches the first batch of the data loader\n",
    "# If shuffle is True, this will return a different batch every time we run this cell\n",
    "# For iterating over the whole dataset, we can simple use \"for batch in data_loader: ...\"\n",
    "data_inputs, data_labels = next(iter(train_dl))\n",
    "\n",
    "# The shape of the outputs are [batch_size, d_1,...,d_N] where d_1,...,d_N are the \n",
    "# dimensions of the data point returned from the dataset class\n",
    "print(\"Data inputs\", data_inputs.shape, \"\\n\", data_inputs)\n",
    "print(\"Data labels\", data_labels.shape, \"\\n\", data_labels)"
   ]
  },
  {
   "cell_type": "markdown",
   "metadata": {
    "id": "OwUJEONtkngC"
   },
   "source": [
    "### Create the network"
   ]
  },
  {
   "cell_type": "markdown",
   "metadata": {
    "id": "M7bO5sVVkLaV"
   },
   "source": [
    "We will then create our first Neural Network. One way to create Neural Networks in PyTorch is by subclassing `torch.nn.Module`. In this way, our model will inherit a lot of ready-to-use convinience functions (access to parameters for optimization, get/set parameters, ...). \n",
    "\n",
    "We only need to create the layers we will use in the `__init__` function and define the `forward` function that specifies how to apply them. \n",
    "\n",
    "Layers are in turn subclasses of `torch.nn.Module`. In our example, we will use only linear layers, i.e. Fully Connected (FC) layers. Our network will have at least two FC layers: `self.first`, mapping the flattened input image into the (first) hidden representation, and `self.last`, mapping the (last) hidden representation into the scores for the classes.\n",
    "\n",
    "To play with varying depths and activation functions, we will have two additional parameters:\n",
    "\n",
    "\n",
    "*   `n_additional_hidden_layers`, specifies how many hidden layers our network has, beside `self.first`\n",
    "*   `use_relu`, if `False`, activations will be sigmoid functions, ReLUs otherwise\n",
    "\n",
    "Note that to store a variable number of layers in our network, we do not use plain PyTorch lists, but `torch.nn.ModuleList`. This is important to make PyTorch aware of the layers in the list, e.g. to set/get their parameters when calling the methods of the base `Module` class."
   ]
  },
  {
   "cell_type": "code",
   "execution_count": 32,
   "metadata": {
    "executionInfo": {
     "elapsed": 73,
     "status": "ok",
     "timestamp": 1685023691517,
     "user": {
      "displayName": "Andrea Zecca",
      "userId": "10151661405184412690"
     },
     "user_tz": -120
    },
    "id": "TzdJdK_Mmhay"
   },
   "outputs": [],
   "source": [
    "### Common template\n",
    "class SimpleClassifier(nn.Module):\n",
    "\n",
    "    def __init__(self, num_inputs, num_hidden, num_outputs):\n",
    "        super().__init__()\n",
    "        # Initialize the modules we need to build the network\n",
    "\n",
    "    def forward(self, x):\n",
    "        # Perform the calculation of the model to determine the prediction\n",
    "        return x"
   ]
  },
  {
   "cell_type": "code",
   "execution_count": 33,
   "metadata": {
    "executionInfo": {
     "elapsed": 74,
     "status": "ok",
     "timestamp": 1685023691519,
     "user": {
      "displayName": "Andrea Zecca",
      "userId": "10151661405184412690"
     },
     "user_tz": -120
    },
    "id": "ahhsPujbkL7I"
   },
   "outputs": [],
   "source": [
    "class SimpleClassifier(torch.nn.Module):\n",
    "  def __init__(self, n_features, hidden_width, n_classes, n_additional_hidden_layers=0):\n",
    "    super(SimpleClassifier, self).__init__()\n",
    "    self.first = torch.nn.Linear(n_features, hidden_width) \n",
    "    self.activation = torch.relu\n",
    "    self.last = torch.nn.Linear(hidden_width, n_classes)\n",
    "\n",
    "    self.additional_hidden_layers = torch.nn.ModuleList(\n",
    "        [torch.nn.Linear(hidden_width, hidden_width) for i in range(n_additional_hidden_layers)])\n",
    "  \n",
    "      \n",
    "  def forward(self, x):\n",
    "    x = self.first(x)\n",
    "    x = self.activation(x)\n",
    "    for layer in self.additional_hidden_layers:\n",
    "      x = layer(x)\n",
    "      x = self.activation(x)\n",
    "    x = self.last(x)\n",
    "    return x"
   ]
  },
  {
   "cell_type": "code",
   "execution_count": 34,
   "metadata": {
    "colab": {
     "base_uri": "https://localhost:8080/"
    },
    "executionInfo": {
     "elapsed": 74,
     "status": "ok",
     "timestamp": 1685023691520,
     "user": {
      "displayName": "Andrea Zecca",
      "userId": "10151661405184412690"
     },
     "user_tz": -120
    },
    "id": "2Z-UyxAAn_fX",
    "outputId": "c47ecc0b-31dd-49f0-82dd-3e871827d0ca"
   },
   "outputs": [
    {
     "name": "stdout",
     "output_type": "stream",
     "text": [
      "<class 'torch.nn.parameter.Parameter'> torch.Size([128, 3072])\n",
      "<class 'torch.nn.parameter.Parameter'> torch.Size([128])\n",
      "<class 'torch.nn.parameter.Parameter'> torch.Size([10, 128])\n",
      "<class 'torch.nn.parameter.Parameter'> torch.Size([10])\n",
      "<class 'torch.nn.parameter.Parameter'> torch.Size([128, 128])\n",
      "<class 'torch.nn.parameter.Parameter'> torch.Size([128])\n"
     ]
    }
   ],
   "source": [
    "hidden_width = 128\n",
    "\n",
    "model = SimpleClassifier(n_features, hidden_width, n_classes, n_additional_hidden_layers=1)\n",
    "for p in model.parameters():\n",
    "  print(type(p), p.shape)"
   ]
  },
  {
   "cell_type": "markdown",
   "metadata": {
    "id": "MqCpCn4vmt1i"
   },
   "source": [
    "Each linear layer has a weight matrix of the shape `[output, input]`, and a bias of the shape `[output]`. The activation function does not have any parameters. Note that parameters are only registered for `nn.Module` objects that are direct object attributes, i.e. `self.a = ...`. "
   ]
  },
  {
   "cell_type": "markdown",
   "metadata": {
    "id": "OeyYTq2hqYDy"
   },
   "source": [
    "`state_dict()` instead is an (Ordered) Dictionary, which associates each variable storing a layer in our classes with its parameters. It is therefore useful to obtain a snapshot of the parameters of our model that can later be restored by calling `load_state_dict()`."
   ]
  },
  {
   "cell_type": "code",
   "execution_count": 35,
   "metadata": {
    "colab": {
     "base_uri": "https://localhost:8080/"
    },
    "executionInfo": {
     "elapsed": 68,
     "status": "ok",
     "timestamp": 1685023691521,
     "user": {
      "displayName": "Andrea Zecca",
      "userId": "10151661405184412690"
     },
     "user_tz": -120
    },
    "id": "Viqn0fgyqn0v",
    "outputId": "986ab1bf-e0e3-4bdf-e77d-71d5a50589ea"
   },
   "outputs": [
    {
     "data": {
      "text/plain": [
       "collections.OrderedDict"
      ]
     },
     "execution_count": 35,
     "metadata": {},
     "output_type": "execute_result"
    }
   ],
   "source": [
    "type(model.state_dict())"
   ]
  },
  {
   "cell_type": "code",
   "execution_count": 36,
   "metadata": {
    "colab": {
     "base_uri": "https://localhost:8080/"
    },
    "executionInfo": {
     "elapsed": 62,
     "status": "ok",
     "timestamp": 1685023691522,
     "user": {
      "displayName": "Andrea Zecca",
      "userId": "10151661405184412690"
     },
     "user_tz": -120
    },
    "id": "TwTXNE8DqpLf",
    "outputId": "5751994d-a192-4234-b34c-9d084999e908"
   },
   "outputs": [
    {
     "data": {
      "text/plain": [
       "odict_keys(['first.weight', 'first.bias', 'last.weight', 'last.bias', 'additional_hidden_layers.0.weight', 'additional_hidden_layers.0.bias'])"
      ]
     },
     "execution_count": 36,
     "metadata": {},
     "output_type": "execute_result"
    }
   ],
   "source": [
    "model.state_dict().keys()"
   ]
  },
  {
   "cell_type": "code",
   "execution_count": 37,
   "metadata": {
    "colab": {
     "base_uri": "https://localhost:8080/"
    },
    "executionInfo": {
     "elapsed": 55,
     "status": "ok",
     "timestamp": 1685023691524,
     "user": {
      "displayName": "Andrea Zecca",
      "userId": "10151661405184412690"
     },
     "user_tz": -120
    },
    "id": "dBoWl-lpqqZe",
    "outputId": "366b6c74-0129-41b0-ae6a-8ec02fd4420d"
   },
   "outputs": [
    {
     "data": {
      "text/plain": [
       "tensor([-1.4465e-02,  6.2338e-03,  9.1021e-03, -8.2314e-03,  1.0969e-02,\n",
       "        -1.1854e-02,  4.0652e-03,  1.0352e-05,  1.2235e-02,  1.2646e-02,\n",
       "        -1.6335e-02,  5.4035e-03, -1.8531e-04, -8.4951e-03,  1.4270e-02,\n",
       "         1.1006e-02,  6.0021e-03, -1.0207e-02,  5.9973e-03,  2.3287e-03,\n",
       "        -5.4748e-03,  1.0968e-02, -4.5787e-03, -1.7016e-02, -3.5070e-03,\n",
       "         7.5792e-03, -1.2472e-02,  4.1827e-03,  6.6539e-03, -8.4353e-03,\n",
       "         9.9216e-03, -9.1217e-03,  6.2374e-03, -8.5070e-03, -5.7854e-03,\n",
       "         1.3562e-02,  1.6064e-02,  4.8393e-03,  1.7703e-02,  4.7369e-03,\n",
       "        -1.5247e-02,  5.8282e-03,  6.1794e-03,  1.1310e-03, -4.1120e-03,\n",
       "         8.7846e-03,  4.3880e-04, -6.6730e-03,  1.0233e-02, -8.6290e-03,\n",
       "         1.7483e-02,  8.4208e-03, -1.5924e-02, -4.1558e-03,  1.2754e-02,\n",
       "        -7.0314e-04,  6.4541e-03,  1.5281e-02,  1.7103e-02,  5.2702e-03,\n",
       "         1.0248e-02,  6.4862e-03, -1.2641e-02,  1.1502e-02,  1.5637e-02,\n",
       "         1.5461e-02,  4.5658e-03, -6.3959e-03, -1.0452e-02,  1.6628e-02,\n",
       "        -1.8474e-03,  9.0928e-03,  4.9240e-03, -1.7547e-02, -3.7580e-03,\n",
       "        -1.0134e-02,  7.0209e-04, -1.6555e-02, -1.6304e-02,  2.0299e-03,\n",
       "         1.3351e-02, -7.4631e-03,  4.4711e-04, -1.4167e-02,  1.1113e-02,\n",
       "         1.5393e-03,  1.1808e-02,  5.5886e-03, -5.8952e-03, -6.1554e-03,\n",
       "         1.1685e-02, -1.0538e-02,  7.7920e-03,  2.4615e-03,  6.3105e-03,\n",
       "         1.3050e-02,  2.5459e-03,  1.0148e-03, -1.3939e-02,  2.3597e-03,\n",
       "        -4.1300e-03,  1.3653e-02,  6.8857e-03, -8.0528e-03,  2.1995e-03,\n",
       "         7.4005e-03, -1.8854e-03,  1.0891e-02,  1.1043e-02, -5.9882e-03,\n",
       "         1.0755e-02,  1.4036e-02,  1.2000e-02,  9.9155e-03, -1.4818e-02,\n",
       "        -1.4874e-02,  1.7197e-02,  1.5640e-02,  8.0683e-03, -7.8469e-03,\n",
       "        -1.3948e-02,  5.1850e-03,  6.1260e-03,  1.4413e-02,  1.7546e-02,\n",
       "        -1.6592e-02,  6.9334e-03,  9.0025e-03])"
      ]
     },
     "execution_count": 37,
     "metadata": {},
     "output_type": "execute_result"
    }
   ],
   "source": [
    "model.state_dict()[\"first.bias\"]"
   ]
  },
  {
   "cell_type": "code",
   "execution_count": 38,
   "metadata": {
    "colab": {
     "base_uri": "https://localhost:8080/"
    },
    "executionInfo": {
     "elapsed": 49,
     "status": "ok",
     "timestamp": 1685023691525,
     "user": {
      "displayName": "Andrea Zecca",
      "userId": "10151661405184412690"
     },
     "user_tz": -120
    },
    "id": "hHdm_zLjpwCY",
    "outputId": "ee4feb8d-bf10-4052-df9e-c44519b5b696"
   },
   "outputs": [
    {
     "data": {
      "text/plain": [
       "SimpleClassifier(\n",
       "  (first): Linear(in_features=3072, out_features=128, bias=True)\n",
       "  (last): Linear(in_features=128, out_features=10, bias=True)\n",
       "  (additional_hidden_layers): ModuleList(\n",
       "    (0): Linear(in_features=128, out_features=128, bias=True)\n",
       "  )\n",
       ")"
      ]
     },
     "execution_count": 38,
     "metadata": {},
     "output_type": "execute_result"
    }
   ],
   "source": [
    "# Push model to device. Has to be only done once\n",
    "model.to(device)"
   ]
  },
  {
   "cell_type": "markdown",
   "metadata": {
    "id": "pMJ3jFu-nujg"
   },
   "source": [
    "### Optimization\n",
    "\n",
    "After defining the model and the dataset, it is time to prepare the optimization of the model. During training, we will perform the following steps:\n",
    "\n",
    "1. Get a batch from the data loader\n",
    "2. Obtain the predictions from the model for the batch\n",
    "3. Calculate the loss based on the difference between predictions and labels\n",
    "4. Backpropagation: calculate the gradients for every parameter with respect to the loss\n",
    "5. Update the parameters of the model in the direction of the gradients\n"
   ]
  },
  {
   "cell_type": "markdown",
   "metadata": {
    "id": "qehLOzi1n9v4"
   },
   "source": [
    "#### Stochastic Gradient Descent\n",
    "\n",
    "For updating the parameters, PyTorch provides the package `torch.optim` that has most popular optimizers implemented. Will for now use `torch.optim.Adam`."
   ]
  },
  {
   "cell_type": "code",
   "execution_count": 39,
   "metadata": {
    "executionInfo": {
     "elapsed": 41,
     "status": "ok",
     "timestamp": 1685023691526,
     "user": {
      "displayName": "Andrea Zecca",
      "userId": "10151661405184412690"
     },
     "user_tz": -120
    },
    "id": "JAK9JOl3o-mE"
   },
   "outputs": [],
   "source": [
    "optimizer = torch.optim.Adam(model.parameters(), lr=0.001)"
   ]
  },
  {
   "cell_type": "markdown",
   "metadata": {
    "id": "RrM17i7spNNN"
   },
   "source": [
    "The optimizer provides two useful functions: `optimizer.step()`, and `optimizer.zero_grad()`. The step function updates the parameters based on the gradients as explained above. The function `optimizer.zero_grad()` sets the gradients of all parameters to zero. While this function seems less relevant at first, it is a crucial pre-step before performing backpropagation. If we call the `backward` function on the loss while the parameter gradients are non-zero from the previous batch, the new gradients would actually be added to the previous ones instead of overwriting them. This is done because a parameter might occur multiple times in a computation graph, and we need to sum the gradients in this case instead of replacing them. Hence, remember to call `optimizer.zero_grad()` before calculating the gradients of a batch."
   ]
  },
  {
   "cell_type": "code",
   "execution_count": 40,
   "metadata": {
    "executionInfo": {
     "elapsed": 41,
     "status": "ok",
     "timestamp": 1685023691527,
     "user": {
      "displayName": "Andrea Zecca",
      "userId": "10151661405184412690"
     },
     "user_tz": -120
    },
    "id": "RMHsGa-kktk6"
   },
   "outputs": [],
   "source": [
    "def ncorrect(scores, y):\n",
    "  y_hat = torch.argmax(scores, 1)\n",
    "  return (y_hat==y).sum()\n",
    "\n",
    "def accuracy(scores, y):\n",
    "  correct = ncorrect(scores, y)\n",
    "  return correct.true_divide(y.shape[0])\n",
    "  \n",
    "def train_loop(model, train_dl, epochs, opt, valid_dl=None, verbose=False):\n",
    "  best_valid_acc = 0\n",
    "  best_params = []\n",
    "  best_epoch = -1\n",
    "\n",
    "  for e in tqdm(range(epochs)):\n",
    "    model.train()\n",
    "    #train\n",
    "    train_loss = 0\n",
    "    train_samples = 0\n",
    "    train_acc = 0\n",
    "    for train_data in train_dl:\n",
    "      input = train_data[0].to(device)\n",
    "      labels = train_data[1].to(device)\n",
    "      scores = model(input)\n",
    "      loss = F.cross_entropy(scores, labels)\n",
    "      train_loss += loss.item() * input.shape[0]\n",
    "      train_samples += input.shape[0]\n",
    "      train_acc += ncorrect(scores, labels).item()\n",
    "      loss.backward()\n",
    "\n",
    "      opt.step()\n",
    "      opt.zero_grad()\n",
    "\n",
    "    train_acc /= train_samples\n",
    "    train_loss /= train_samples\n",
    "    \n",
    "    # validation\n",
    "    model.eval()\n",
    "    with torch.no_grad():\n",
    "      valid_loss = 0\n",
    "      valid_samples = 0\n",
    "      valid_acc = 0\n",
    "      if valid_dl is not None:\n",
    "        for valid_data in valid_dl:\n",
    "          input = valid_data[0].to(device)\n",
    "          labels = valid_data[1].to(device)\n",
    "          valid_scores = model(input)\n",
    "          valid_loss += F.cross_entropy(valid_scores, labels).item() * input.shape[0]\n",
    "          valid_samples += input.shape[0]\n",
    "          valid_acc += ncorrect(valid_scores, labels).item()\n",
    "        valid_acc /= valid_samples\n",
    "        valid_loss /= valid_samples\n",
    "      \n",
    "      if valid_dl is None or valid_acc > best_valid_acc:\n",
    "        best_valid_acc = valid_acc if valid_dl is not None else 0\n",
    "        best_params = model.state_dict()\n",
    "        torch.save(best_params, \"best_model.pth\")\n",
    "        best_epoch = e\n",
    "\n",
    "    if verbose and e % 5 == 0:\n",
    "      print(f\"Epoch {e}: train loss {train_loss:.3f} - train acc {train_acc:.3f}\" + (\"\" if valid_dl is None else f\" - valid loss {valid_loss:.3f} - valid acc {valid_acc:.3f}\"))\n",
    "  \n",
    "  if verbose and valid_dl is not None:\n",
    "    print(f\"Best epoch {best_epoch}, best acc {best_valid_acc}\")\n",
    "\n",
    "  return best_valid_acc, best_params, best_epoch"
   ]
  },
  {
   "cell_type": "markdown",
   "metadata": {
    "id": "5C_cx4r3l3X3"
   },
   "source": [
    "### Train the network"
   ]
  },
  {
   "cell_type": "code",
   "execution_count": 41,
   "metadata": {
    "colab": {
     "base_uri": "https://localhost:8080/",
     "height": 153,
     "referenced_widgets": [
      "07c1d67933844a799e77366c2bd8d35e",
      "bc9e76280bac4db2885a54af24cff6c7",
      "48cc8e9da3294897b0872d319c87590c",
      "c3c4a848ee3a420f8a799f4719001129",
      "fc1b985c490340a8aa30e67b309fd5c9",
      "8f25b5d33aee458a86da5b1b445dc81d",
      "b9195ef646fa4f0fb218ce896b07de91",
      "65d1e5dc153949a592dab685ff592548",
      "be29d8e42fad4562a1fdf9118bb9696e",
      "6040da1956b842afbbde87d6e174c3ec",
      "93519b927eb6463aa6b6b5e59ecc385b"
     ]
    },
    "executionInfo": {
     "elapsed": 278006,
     "status": "ok",
     "timestamp": 1685023969493,
     "user": {
      "displayName": "Andrea Zecca",
      "userId": "10151661405184412690"
     },
     "user_tz": -120
    },
    "id": "xR8VRn7Vl4HT",
    "outputId": "d33f82a0-a88c-42e2-cae9-1fa025250dd2"
   },
   "outputs": [
    {
     "data": {
      "application/vnd.jupyter.widget-view+json": {
       "model_id": "07c1d67933844a799e77366c2bd8d35e",
       "version_major": 2,
       "version_minor": 0
      },
      "text/plain": [
       "  0%|          | 0/20 [00:00<?, ?it/s]"
      ]
     },
     "metadata": {},
     "output_type": "display_data"
    },
    {
     "name": "stdout",
     "output_type": "stream",
     "text": [
      "Epoch 0: train loss 2.221 - train acc 0.195 - valid loss 2.065 - valid acc 0.258\n",
      "Epoch 5: train loss 1.277 - train acc 0.595 - valid loss 1.254 - valid acc 0.604\n",
      "Epoch 10: train loss 1.077 - train acc 0.669 - valid loss 1.140 - valid acc 0.638\n",
      "Epoch 15: train loss 0.995 - train acc 0.695 - valid loss 1.026 - valid acc 0.681\n",
      "Best epoch 17, best acc 0.7044\n",
      "Elapsed time (s): 277.82729995799997\n"
     ]
    }
   ],
   "source": [
    "epochs = 20\n",
    "\n",
    "start = timer()\n",
    "best_valid_acc, best_params, best_epoch = train_loop(model, train_dl, epochs, optimizer, valid_dl=valid_dl, verbose=True)\n",
    "end = timer()\n",
    "print(f\"Elapsed time (s): {end-start}\")"
   ]
  },
  {
   "cell_type": "markdown",
   "metadata": {
    "id": "3DnMx-N8q6Vo"
   },
   "source": [
    "### Load the model "
   ]
  },
  {
   "cell_type": "code",
   "execution_count": 42,
   "metadata": {
    "colab": {
     "base_uri": "https://localhost:8080/"
    },
    "executionInfo": {
     "elapsed": 66,
     "status": "ok",
     "timestamp": 1685023969494,
     "user": {
      "displayName": "Andrea Zecca",
      "userId": "10151661405184412690"
     },
     "user_tz": -120
    },
    "id": "pfWY1VuWq7Z4",
    "outputId": "68799064-d454-4029-9f40-6ae043169244"
   },
   "outputs": [
    {
     "data": {
      "text/plain": [
       "<All keys matched successfully>"
      ]
     },
     "execution_count": 42,
     "metadata": {},
     "output_type": "execute_result"
    }
   ],
   "source": [
    "# Load state dict from the disk (make sure it is the same name as above)\n",
    "state_dict = torch.load(\"best_model.pth\")\n",
    "\n",
    "# Create a new model and load the state\n",
    "new_model = SimpleClassifier(n_features, hidden_width, n_classes, n_additional_hidden_layers=1)\n",
    "new_model.load_state_dict(state_dict)"
   ]
  },
  {
   "cell_type": "markdown",
   "metadata": {
    "id": "YX5S0oEt1pJF"
   },
   "source": [
    "# Now it's your turn!"
   ]
  },
  {
   "cell_type": "markdown",
   "metadata": {
    "id": "FXoBf9ZF4o4A"
   },
   "source": [
    "## Exercise 1: Improve the Accuracy score\n",
    "\n",
    "Try to achieve a better accuracy on the validation set by modifying the previus model and manually tuning the hyper parameters such as the number of epochs, the learning rate, and the number of hidden layers. \n",
    "\n",
    "\n",
    "Suggestion: you can add [Batch Normalization](https://arxiv.org/abs/1502.03167). You can find the Normalization layers already implemented in [PyTorch](https://pytorch.org/docs/stable/nn.html#id1).\n",
    "\n",
    "use '''nn.Sequential()''' to stack togheter a block with the following \n",
    "structure:\n",
    "\n",
    "nn.Linear -> BatchNorm -> Activation\n",
    "\n",
    "Use the nn.Sequential() pytorch package to stack the previus three components into a single layer.\n",
    "\n"
   ]
  },
  {
   "cell_type": "code",
   "execution_count": 43,
   "metadata": {
    "executionInfo": {
     "elapsed": 22,
     "status": "ok",
     "timestamp": 1685023969495,
     "user": {
      "displayName": "Andrea Zecca",
      "userId": "10151661405184412690"
     },
     "user_tz": -120
    },
    "id": "J5wwRfF41r6k"
   },
   "outputs": [],
   "source": [
    "def get_linear_bn_relu(\n",
    "    name: str,\n",
    "    features_in: int,\n",
    "    features_out: int,\n",
    "    add_batch_norm: bool,\n",
    ") -> nn.Sequential:\n",
    "    \"\"\"Gets a sequential container with a sandwich of Linear, Relu and batch norm.\n",
    "\n",
    "    Args:\n",
    "        name: the name prefix to append to each layer in the container.\n",
    "        features_in: the number of the input channels.\n",
    "        features_out: the number of the output channels.\n",
    "        add_batch_norm: if True, add a batch normalization layer after the Linear layer.\n",
    "\n",
    "    Returns: the created sequential.\n",
    "    \"\"\"\n",
    "    container = nn.Sequential()\n",
    "    ############ Write your code here ############\n",
    "    container.add_module(f\"{name}_linear\", nn.Linear(features_in, features_out))\n",
    "    if add_batch_norm:\n",
    "        container.add_module(f\"{name}_bn\", nn.BatchNorm1d(features_out))\n",
    "    container.add_module(f\"{name}_relu\", nn.ReLU())\n",
    "    #############################################\n",
    "    return container"
   ]
  },
  {
   "cell_type": "code",
   "execution_count": 54,
   "metadata": {
    "executionInfo": {
     "elapsed": 336,
     "status": "ok",
     "timestamp": 1685024396177,
     "user": {
      "displayName": "Andrea Zecca",
      "userId": "10151661405184412690"
     },
     "user_tz": -120
    },
    "id": "tH_HHQX041fR"
   },
   "outputs": [],
   "source": [
    "class SimpleClassifierBN(nn.Module):\n",
    "  def __init__(self, n_features, hidden_width, n_classes, n_additional_hidden_layers=0):\n",
    "    super(SimpleClassifierBN, self).__init__()\n",
    "    self.first = torch.nn.Linear(n_features, hidden_width)\n",
    "    self.bn = nn.BatchNorm1d(hidden_width)\n",
    "    self.activation = torch.relu\n",
    "    self.last = torch.nn.Linear(hidden_width, n_classes)\n",
    "\n",
    "    self.additional_hidden_layers = torch.nn.ModuleList(\n",
    "        [get_linear_bn_relu(name=f\"h_layer_{i}\", features_in=hidden_width, features_out=hidden_width, add_batch_norm=True)\n",
    "          for i in range(n_additional_hidden_layers)])\n",
    "  \n",
    "  def forward(self, x):\n",
    "    x = self.first(x)\n",
    "    x = self.bn(x)\n",
    "    x = self.activation(x)\n",
    "    for layer in self.additional_hidden_layers:\n",
    "      x = layer(x)\n",
    "      x = self.activation(x)\n",
    "    x = self.last(x)\n",
    "    return x"
   ]
  },
  {
   "cell_type": "code",
   "execution_count": 58,
   "metadata": {
    "colab": {
     "base_uri": "https://localhost:8080/",
     "height": 171,
     "referenced_widgets": [
      "4df0baa3e3c44a3bba420a8fb15575cb",
      "5ad21894d29747af80024501b55d43dc",
      "2357004f791c4059acdf2c2f8b8a7b2a",
      "8ff7483674d34c5eb2513f1ab3ae3aa0",
      "a3c99f2afb4a4f25bbed13fb9106418c",
      "ae7e213db20945218147593dc2db1f37",
      "31c0d6e3ed0c436ead41366528b3846a",
      "cd0fe05a779f4675a6b90a156645e029",
      "0ff47685cdea47489f1bad77fbefb582",
      "4c700d1b58bf46fd9ec7947b1dd9475b",
      "92bfe1673d014040bfeae43ccfe47c71"
     ]
    },
    "executionInfo": {
     "elapsed": 379146,
     "status": "ok",
     "timestamp": 1685025615374,
     "user": {
      "displayName": "Andrea Zecca",
      "userId": "10151661405184412690"
     },
     "user_tz": -120
    },
    "id": "s03EO1ev5JjD",
    "outputId": "5d498b14-edd4-49f5-b57c-aa904f3fe67e"
   },
   "outputs": [
    {
     "data": {
      "application/vnd.jupyter.widget-view+json": {
       "model_id": "4df0baa3e3c44a3bba420a8fb15575cb",
       "version_major": 2,
       "version_minor": 0
      },
      "text/plain": [
       "  0%|          | 0/25 [00:00<?, ?it/s]"
      ]
     },
     "metadata": {},
     "output_type": "display_data"
    },
    {
     "name": "stdout",
     "output_type": "stream",
     "text": [
      "Epoch 0: train loss 1.301 - train acc 0.570 - valid loss 1.417 - valid acc 0.546\n",
      "Epoch 5: train loss 0.539 - train acc 0.831 - valid loss 0.951 - valid acc 0.695\n",
      "Epoch 10: train loss 0.409 - train acc 0.872 - valid loss 0.840 - valid acc 0.747\n",
      "Epoch 15: train loss 0.333 - train acc 0.895 - valid loss 0.915 - valid acc 0.739\n",
      "Epoch 20: train loss 0.265 - train acc 0.914 - valid loss 0.987 - valid acc 0.750\n",
      "Best epoch 17, best acc 0.7528\n",
      "Elapsed time (s): 378.790817243\n"
     ]
    }
   ],
   "source": [
    "new_model = SimpleClassifierBN(n_features, hidden_width, n_classes, n_additional_hidden_layers=3)\n",
    "new_model.to(device)\n",
    "optimizer = torch.optim.Adam(new_model.parameters(), lr=0.001)\n",
    "epochs = 25\n",
    "\n",
    "start = timer()\n",
    "best_valid_acc, best_params, best_epoch = train_loop(new_model, train_dl, epochs, optimizer, valid_dl=valid_dl, verbose=True)\n",
    "end = timer()\n",
    "print(f\"Elapsed time (s): {end-start}\")"
   ]
  },
  {
   "cell_type": "code",
   "execution_count": 59,
   "metadata": {
    "colab": {
     "base_uri": "https://localhost:8080/"
    },
    "executionInfo": {
     "elapsed": 8,
     "status": "ok",
     "timestamp": 1685026747980,
     "user": {
      "displayName": "Andrea Zecca",
      "userId": "10151661405184412690"
     },
     "user_tz": -120
    },
    "id": "IqtXRfKEg74z",
    "outputId": "65b5ae83-241d-46f0-dd99-c8570a5bcaf6"
   },
   "outputs": [
    {
     "data": {
      "text/plain": [
       "<All keys matched successfully>"
      ]
     },
     "execution_count": 59,
     "metadata": {},
     "output_type": "execute_result"
    }
   ],
   "source": [
    "new_model.load_state_dict(torch.load('best_model.pth'))"
   ]
  },
  {
   "cell_type": "markdown",
   "metadata": {
    "id": "LAwjHfGV5Zyo"
   },
   "source": [
    "## Exercise 2: \n",
    "Compute the confusion matrix for the test set. Then, given the confusion matrix, compute the accuracy score."
   ]
  },
  {
   "cell_type": "code",
   "execution_count": 60,
   "metadata": {
    "colab": {
     "base_uri": "https://localhost:8080/"
    },
    "executionInfo": {
     "elapsed": 8234,
     "status": "ok",
     "timestamp": 1685026759403,
     "user": {
      "displayName": "Andrea Zecca",
      "userId": "10151661405184412690"
     },
     "user_tz": -120
    },
    "id": "vuGfiC3vZMzz",
    "outputId": "47cabaf8-66b8-4d09-f4a2-e5de2f267c95"
   },
   "outputs": [
    {
     "name": "stdout",
     "output_type": "stream",
     "text": [
      "tensor(0.7348)\n"
     ]
    }
   ],
   "source": [
    "num_classes = 10\n",
    "new_model.eval()\n",
    "confusion_matrix = torch.zeros(num_classes, num_classes)\n",
    "############ Write your code here ############\n",
    "confusion_matrix = confusion_matrix.to(device)\n",
    "with torch.no_grad():\n",
    "    for i, data in enumerate(test_dl):\n",
    "        input, gt = data\n",
    "        input = input.to(device)\n",
    "        gt = gt.to(device)\n",
    "        scores = new_model(input)\n",
    "        for idx, score in enumerate(scores):\n",
    "            y_hat = torch.argmax(score)\n",
    "            confusion_matrix[gt[idx], y_hat] += 1\n",
    "confusion_matrix = confusion_matrix.to(\"cpu\")\n",
    "test_accuracy = torch.diagonal(confusion_matrix).sum()/confusion_matrix.sum()\n",
    "#############################################\n",
    "print(test_accuracy)\n"
   ]
  },
  {
   "cell_type": "code",
   "execution_count": 61,
   "metadata": {
    "colab": {
     "base_uri": "https://localhost:8080/",
     "height": 622
    },
    "executionInfo": {
     "elapsed": 1385,
     "status": "ok",
     "timestamp": 1685026762755,
     "user": {
      "displayName": "Andrea Zecca",
      "userId": "10151661405184412690"
     },
     "user_tz": -120
    },
    "id": "TtbAcZVkbhZu",
    "outputId": "3e273d84-c280-4d3b-9b9a-3fdb35515126"
   },
   "outputs": [
    {
     "data": {
      "text/plain": [
       "<Axes: >"
      ]
     },
     "execution_count": 61,
     "metadata": {},
     "output_type": "execute_result"
    },
    {
     "data": {
      "image/png": "[encoded data removed]",
      "text/plain": [
       "<Figure size 1000x700 with 2 Axes>"
      ]
     },
     "metadata": {},
     "output_type": "display_data"
    }
   ],
   "source": [
    "import seaborn as sn\n",
    "import pandas as pd\n",
    "import matplotlib.pyplot as plt\n",
    "\n",
    "confusion_matrix /= confusion_matrix.sum(1)\n",
    "confusion_matrix *= 100\n",
    "df_cm = pd.DataFrame(confusion_matrix)\n",
    "plt.figure(figsize = (10,7))\n",
    "sn.heatmap(df_cm, annot=True)"
   ]
  },
  {
   "cell_type": "markdown",
   "metadata": {
    "id": "xjVl1dHK5Z3w"
   },
   "source": [
    "## Exercise 3:\n",
    "Rewrite the forward model to return the embedding rather than the classification scores.\n",
    "**Note that you don't have to retrain the model again!**\n",
    "\n",
    "Then, show the three nearest neighbors in the train set for element with index 0 in the test set."
   ]
  },
  {
   "cell_type": "code",
   "execution_count": 62,
   "metadata": {
    "executionInfo": {
     "elapsed": 1028,
     "status": "ok",
     "timestamp": 1685026774014,
     "user": {
      "displayName": "Andrea Zecca",
      "userId": "10151661405184412690"
     },
     "user_tz": -120
    },
    "id": "akoEz0AdveM_"
   },
   "outputs": [],
   "source": [
    "class SimpleClassifierBN(nn.Module):\n",
    "  def __init__(self, n_features, hidden_width, n_classes, n_additional_hidden_layers=0):\n",
    "    super(SimpleClassifierBN, self).__init__()\n",
    "    self.first = torch.nn.Linear(n_features, hidden_width)\n",
    "    self.bn = nn.BatchNorm1d(hidden_width)\n",
    "    self.activation = torch.relu\n",
    "    self.last = torch.nn.Linear(hidden_width, n_classes)\n",
    "\n",
    "    self.additional_hidden_layers = torch.nn.ModuleList(\n",
    "        [get_linear_bn_relu(name=f\"h_layer_{i}\", features_in=hidden_width, features_out=hidden_width, add_batch_norm=True)\n",
    "          for i in range(n_additional_hidden_layers)])\n",
    "  \n",
    "  def forward(self, x):\n",
    "    x = self.first(x)\n",
    "    x = self.bn(x)\n",
    "    x = self.activation(x)\n",
    "    for layer in self.additional_hidden_layers:\n",
    "      x = layer(x)\n",
    "      x = self.activation(x)\n",
    "    return x"
   ]
  },
  {
   "cell_type": "code",
   "execution_count": 63,
   "metadata": {
    "colab": {
     "base_uri": "https://localhost:8080/"
    },
    "executionInfo": {
     "elapsed": 322,
     "status": "ok",
     "timestamp": 1685026776420,
     "user": {
      "displayName": "Andrea Zecca",
      "userId": "10151661405184412690"
     },
     "user_tz": -120
    },
    "id": "3teK1uxPvuoo",
    "outputId": "6c4fb70d-9203-4587-9551-8437fdbaa6d1"
   },
   "outputs": [
    {
     "data": {
      "text/plain": [
       "SimpleClassifierBN_2(\n",
       "  (first): Linear(in_features=3072, out_features=128, bias=True)\n",
       "  (bn): BatchNorm1d(128, eps=1e-05, momentum=0.1, affine=True, track_running_stats=True)\n",
       "  (last): Linear(in_features=128, out_features=10, bias=True)\n",
       "  (additional_hidden_layers): ModuleList(\n",
       "    (0): Sequential(\n",
       "      (h_layer_0_linear): Linear(in_features=128, out_features=128, bias=True)\n",
       "      (h_layer_0_bn): BatchNorm1d(128, eps=1e-05, momentum=0.1, affine=True, track_running_stats=True)\n",
       "      (h_layer_0_relu): ReLU()\n",
       "    )\n",
       "    (1): Sequential(\n",
       "      (h_layer_1_linear): Linear(in_features=128, out_features=128, bias=True)\n",
       "      (h_layer_1_bn): BatchNorm1d(128, eps=1e-05, momentum=0.1, affine=True, track_running_stats=True)\n",
       "      (h_layer_1_relu): ReLU()\n",
       "    )\n",
       "    (2): Sequential(\n",
       "      (h_layer_2_linear): Linear(in_features=128, out_features=128, bias=True)\n",
       "      (h_layer_2_bn): BatchNorm1d(128, eps=1e-05, momentum=0.1, affine=True, track_running_stats=True)\n",
       "      (h_layer_2_relu): ReLU()\n",
       "    )\n",
       "  )\n",
       ")"
      ]
     },
     "execution_count": 63,
     "metadata": {},
     "output_type": "execute_result"
    }
   ],
   "source": [
    "# Load state dict from the disk (make sure it is the same name as above)\n",
    "state_dict = torch.load(\"best_model.pth\")\n",
    "\n",
    "# Create a new model and load the state\n",
    "new_model = SimpleClassifierBN_2(n_features, hidden_width, n_classes, n_additional_hidden_layers=3)\n",
    "new_model.load_state_dict(state_dict)\n",
    "new_model.to(device)\n",
    "new_model.eval()"
   ]
  },
  {
   "cell_type": "code",
   "execution_count": 64,
   "metadata": {
    "colab": {
     "base_uri": "https://localhost:8080/"
    },
    "executionInfo": {
     "elapsed": 21084,
     "status": "ok",
     "timestamp": 1685026801287,
     "user": {
      "displayName": "Andrea Zecca",
      "userId": "10151661405184412690"
     },
     "user_tz": -120
    },
    "id": "cgknZDtH4rpf",
    "outputId": "053e808e-643a-4268-ded9-7e05fadc8b24"
   },
   "outputs": [
    {
     "name": "stdout",
     "output_type": "stream",
     "text": [
      "torch.Size([68257, 128]) torch.Size([68257])\n",
      "torch.Size([26032, 128]) torch.Size([26032])\n"
     ]
    }
   ],
   "source": [
    "def get_embeddings(model, dl):\n",
    "  model.eval()\n",
    "  embeddings = []\n",
    "  labels = []\n",
    "  \n",
    "############ Write your code here ############\n",
    "  with torch.no_grad():\n",
    "      for data in dl:\n",
    "          input, gt = data\n",
    "          input = input.to(device)\n",
    "          gt = gt.to(device)\n",
    "\n",
    "          # calculate the embeddings by running images through the network\n",
    "          feature_vectors = model(input)\n",
    "          for idx in range(input.shape[0]):\n",
    "            embeddings.append(feature_vectors[idx])\n",
    "            labels.append(gt[idx])\n",
    "  \n",
    "  embeddings = torch.stack(embeddings, dim=0)\n",
    "  labels = torch.stack(labels, dim=0)\n",
    "\n",
    "#############################################\n",
    "  return embeddings, labels\n",
    "\n",
    "train_dl = torch.utils.data.DataLoader(actual_train_subds, batch_size=batch_size, shuffle=False)\n",
    "embeddings_train, labels_train = get_embeddings(new_model, train_dl)\n",
    "print(embeddings_train.shape, labels_train.shape)\n",
    "embeddings_test, labels_test = get_embeddings(new_model, test_dl)\n",
    "print(embeddings_test.shape, labels_test.shape)"
   ]
  },
  {
   "cell_type": "code",
   "execution_count": 65,
   "metadata": {
    "colab": {
     "base_uri": "https://localhost:8080/",
     "height": 308
    },
    "executionInfo": {
     "elapsed": 946,
     "status": "ok",
     "timestamp": 1685026814258,
     "user": {
      "displayName": "Andrea Zecca",
      "userId": "10151661405184412690"
     },
     "user_tz": -120
    },
    "id": "9oUEQ70OE5OT",
    "outputId": "bff6eb29-7959-4029-dc43-5ee337dd8320"
   },
   "outputs": [
    {
     "name": "stdout",
     "output_type": "stream",
     "text": [
      "5\n",
      "5 5 5\n"
     ]
    },
    {
     "data": {
      "image/png": "[encoded data removed]",
      "text/plain": [
       "<Figure size 1200x800 with 4 Axes>"
      ]
     },
     "metadata": {},
     "output_type": "display_data"
    }
   ],
   "source": [
    "############ Write your code here ############\n",
    "\n",
    "elem_idx = 0\n",
    "embeddings_train_normalized = torch.nn.functional.normalize(embeddings_train, dim=1)\n",
    "embeddings_test_normalized = torch.nn.functional.normalize(embeddings_test, dim=1)\n",
    "\n",
    "dist = torch.linalg.norm(embeddings_train_normalized - embeddings_test_normalized[elem_idx].unsqueeze(0), dim=1)    \n",
    "knn = dist.topk(3, largest=False)\n",
    "\n",
    "f, axarr = plt.subplots(1,4, squeeze=False)\n",
    "axarr[0,0].imshow(test_ds[elem_idx][0].reshape(3,32,32).permute(1,2,0))\n",
    "axarr[0,1].imshow(actual_train_subds[knn.indices[0]][0].reshape(3,32,32).permute(1,2,0))\n",
    "axarr[0,2].imshow(actual_train_subds[knn.indices[1]][0].reshape(3,32,32).permute(1,2,0))\n",
    "axarr[0,3].imshow(actual_train_subds[knn.indices[2]][0].reshape(3,32,32).permute(1,2,0))\n",
    "\n",
    "print(test_ds[elem_idx][1])\n",
    "print(actual_train_subds[knn.indices[0]][1], actual_train_subds[knn.indices[1]][1], actual_train_subds[knn.indices[2]][1])\n",
    "\n",
    "#############################################"
   ]
  }
 ],
 "metadata": {
  "accelerator": "GPU",
  "colab": {
   "gpuType": "T4",
   "provenance": []
  },
  "gpuClass": "standard",
  "kernelspec": {
   "display_name": "Python 3 (ipykernel)",
   "language": "python",
   "name": "python3"
  },
  "language_info": {
   "codemirror_mode": {
    "name": "ipython",
    "version": 3
   },
   "file_extension": ".py",
   "mimetype": "text/x-python",
   "name": "python",
   "nbconvert_exporter": "python",
   "pygments_lexer": "ipython3",
   "version": "3.10.6"
  },
  "widgets": {
   "application/vnd.jupyter.widget-state+json": {
    "07c1d67933844a799e77366c2bd8d35e": {
     "model_module": "@jupyter-widgets/controls",
     "model_module_version": "1.5.0",
     "model_name": "HBoxModel",
     "state": {
      "_dom_classes": [],
      "_model_module": "@jupyter-widgets/controls",
      "_model_module_version": "1.5.0",
      "_model_name": "HBoxModel",
      "_view_count": null,
      "_view_module": "@jupyter-widgets/controls",
      "_view_module_version": "1.5.0",
      "_view_name": "HBoxView",
      "box_style": "",
      "children": [
       "IPY_MODEL_bc9e76280bac4db2885a54af24cff6c7",
       "IPY_MODEL_48cc8e9da3294897b0872d319c87590c",
       "IPY_MODEL_c3c4a848ee3a420f8a799f4719001129"
      ],
      "layout": "IPY_MODEL_fc1b985c490340a8aa30e67b309fd5c9"
     }
    },
    "0ff47685cdea47489f1bad77fbefb582": {
     "model_module": "@jupyter-widgets/controls",
     "model_module_version": "1.5.0",
     "model_name": "ProgressStyleModel",
     "state": {
      "_model_module": "@jupyter-widgets/controls",
      "_model_module_version": "1.5.0",
      "_model_name": "ProgressStyleModel",
      "_view_count": null,
      "_view_module": "@jupyter-widgets/base",
      "_view_module_version": "1.2.0",
      "_view_name": "StyleView",
      "bar_color": null,
      "description_width": ""
     }
    },
    "2357004f791c4059acdf2c2f8b8a7b2a": {
     "model_module": "@jupyter-widgets/controls",
     "model_module_version": "1.5.0",
     "model_name": "FloatProgressModel",
     "state": {
      "_dom_classes": [],
      "_model_module": "@jupyter-widgets/controls",
      "_model_module_version": "1.5.0",
      "_model_name": "FloatProgressModel",
      "_view_count": null,
      "_view_module": "@jupyter-widgets/controls",
      "_view_module_version": "1.5.0",
      "_view_name": "ProgressView",
      "bar_style": "success",
      "description": "",
      "description_tooltip": null,
      "layout": "IPY_MODEL_cd0fe05a779f4675a6b90a156645e029",
      "max": 25,
      "min": 0,
      "orientation": "horizontal",
      "style": "IPY_MODEL_0ff47685cdea47489f1bad77fbefb582",
      "value": 25
     }
    },
    "31c0d6e3ed0c436ead41366528b3846a": {
     "model_module": "@jupyter-widgets/controls",
     "model_module_version": "1.5.0",
     "model_name": "DescriptionStyleModel",
     "state": {
      "_model_module": "@jupyter-widgets/controls",
      "_model_module_version": "1.5.0",
      "_model_name": "DescriptionStyleModel",
      "_view_count": null,
      "_view_module": "@jupyter-widgets/base",
      "_view_module_version": "1.2.0",
      "_view_name": "StyleView",
      "description_width": ""
     }
    },
    "48cc8e9da3294897b0872d319c87590c": {
     "model_module": "@jupyter-widgets/controls",
     "model_module_version": "1.5.0",
     "model_name": "FloatProgressModel",
     "state": {
      "_dom_classes": [],
      "_model_module": "@jupyter-widgets/controls",
      "_model_module_version": "1.5.0",
      "_model_name": "FloatProgressModel",
      "_view_count": null,
      "_view_module": "@jupyter-widgets/controls",
      "_view_module_version": "1.5.0",
      "_view_name": "ProgressView",
      "bar_style": "success",
      "description": "",
      "description_tooltip": null,
      "layout": "IPY_MODEL_65d1e5dc153949a592dab685ff592548",
      "max": 20,
      "min": 0,
      "orientation": "horizontal",
      "style": "IPY_MODEL_be29d8e42fad4562a1fdf9118bb9696e",
      "value": 20
     }
    },
    "4c700d1b58bf46fd9ec7947b1dd9475b": {
     "model_module": "@jupyter-widgets/base",
     "model_module_version": "1.2.0",
     "model_name": "LayoutModel",
     "state": {
      "_model_module": "@jupyter-widgets/base",
      "_model_module_version": "1.2.0",
      "_model_name": "LayoutModel",
      "_view_count": null,
      "_view_module": "@jupyter-widgets/base",
      "_view_module_version": "1.2.0",
      "_view_name": "LayoutView",
      "align_content": null,
      "align_items": null,
      "align_self": null,
      "border": null,
      "bottom": null,
      "display": null,
      "flex": null,
      "flex_flow": null,
      "grid_area": null,
      "grid_auto_columns": null,
      "grid_auto_flow": null,
      "grid_auto_rows": null,
      "grid_column": null,
      "grid_gap": null,
      "grid_row": null,
      "grid_template_areas": null,
      "grid_template_columns": null,
      "grid_template_rows": null,
      "height": null,
      "justify_content": null,
      "justify_items": null,
      "left": null,
      "margin": null,
      "max_height": null,
      "max_width": null,
      "min_height": null,
      "min_width": null,
      "object_fit": null,
      "object_position": null,
      "order": null,
      "overflow": null,
      "overflow_x": null,
      "overflow_y": null,
      "padding": null,
      "right": null,
      "top": null,
      "visibility": null,
      "width": null
     }
    },
    "4df0baa3e3c44a3bba420a8fb15575cb": {
     "model_module": "@jupyter-widgets/controls",
     "model_module_version": "1.5.0",
     "model_name": "HBoxModel",
     "state": {
      "_dom_classes": [],
      "_model_module": "@jupyter-widgets/controls",
      "_model_module_version": "1.5.0",
      "_model_name": "HBoxModel",
      "_view_count": null,
      "_view_module": "@jupyter-widgets/controls",
      "_view_module_version": "1.5.0",
      "_view_name": "HBoxView",
      "box_style": "",
      "children": [
       "IPY_MODEL_5ad21894d29747af80024501b55d43dc",
       "IPY_MODEL_2357004f791c4059acdf2c2f8b8a7b2a",
       "IPY_MODEL_8ff7483674d34c5eb2513f1ab3ae3aa0"
      ],
      "layout": "IPY_MODEL_a3c99f2afb4a4f25bbed13fb9106418c"
     }
    },
    "5ad21894d29747af80024501b55d43dc": {
     "model_module": "@jupyter-widgets/controls",
     "model_module_version": "1.5.0",
     "model_name": "HTMLModel",
     "state": {
      "_dom_classes": [],
      "_model_module": "@jupyter-widgets/controls",
      "_model_module_version": "1.5.0",
      "_model_name": "HTMLModel",
      "_view_count": null,
      "_view_module": "@jupyter-widgets/controls",
      "_view_module_version": "1.5.0",
      "_view_name": "HTMLView",
      "description": "",
      "description_tooltip": null,
      "layout": "IPY_MODEL_ae7e213db20945218147593dc2db1f37",
      "placeholder": "​",
      "style": "IPY_MODEL_31c0d6e3ed0c436ead41366528b3846a",
      "value": "100%"
     }
    },
    "6040da1956b842afbbde87d6e174c3ec": {
     "model_module": "@jupyter-widgets/base",
     "model_module_version": "1.2.0",
     "model_name": "LayoutModel",
     "state": {
      "_model_module": "@jupyter-widgets/base",
      "_model_module_version": "1.2.0",
      "_model_name": "LayoutModel",
      "_view_count": null,
      "_view_module": "@jupyter-widgets/base",
      "_view_module_version": "1.2.0",
      "_view_name": "LayoutView",
      "align_content": null,
      "align_items": null,
      "align_self": null,
      "border": null,
      "bottom": null,
      "display": null,
      "flex": null,
      "flex_flow": null,
      "grid_area": null,
      "grid_auto_columns": null,
      "grid_auto_flow": null,
      "grid_auto_rows": null,
      "grid_column": null,
      "grid_gap": null,
      "grid_row": null,
      "grid_template_areas": null,
      "grid_template_columns": null,
      "grid_template_rows": null,
      "height": null,
      "justify_content": null,
      "justify_items": null,
      "left": null,
      "margin": null,
      "max_height": null,
      "max_width": null,
      "min_height": null,
      "min_width": null,
      "object_fit": null,
      "object_position": null,
      "order": null,
      "overflow": null,
      "overflow_x": null,
      "overflow_y": null,
      "padding": null,
      "right": null,
      "top": null,
      "visibility": null,
      "width": null
     }
    },
    "65d1e5dc153949a592dab685ff592548": {
     "model_module": "@jupyter-widgets/base",
     "model_module_version": "1.2.0",
     "model_name": "LayoutModel",
     "state": {
      "_model_module": "@jupyter-widgets/base",
      "_model_module_version": "1.2.0",
      "_model_name": "LayoutModel",
      "_view_count": null,
      "_view_module": "@jupyter-widgets/base",
      "_view_module_version": "1.2.0",
      "_view_name": "LayoutView",
      "align_content": null,
      "align_items": null,
      "align_self": null,
      "border": null,
      "bottom": null,
      "display": null,
      "flex": null,
      "flex_flow": null,
      "grid_area": null,
      "grid_auto_columns": null,
      "grid_auto_flow": null,
      "grid_auto_rows": null,
      "grid_column": null,
      "grid_gap": null,
      "grid_row": null,
      "grid_template_areas": null,
      "grid_template_columns": null,
      "grid_template_rows": null,
      "height": null,
      "justify_content": null,
      "justify_items": null,
      "left": null,
      "margin": null,
      "max_height": null,
      "max_width": null,
      "min_height": null,
      "min_width": null,
      "object_fit": null,
      "object_position": null,
      "order": null,
      "overflow": null,
      "overflow_x": null,
      "overflow_y": null,
      "padding": null,
      "right": null,
      "top": null,
      "visibility": null,
      "width": null
     }
    },
    "8f25b5d33aee458a86da5b1b445dc81d": {
     "model_module": "@jupyter-widgets/base",
     "model_module_version": "1.2.0",
     "model_name": "LayoutModel",
     "state": {
      "_model_module": "@jupyter-widgets/base",
      "_model_module_version": "1.2.0",
      "_model_name": "LayoutModel",
      "_view_count": null,
      "_view_module": "@jupyter-widgets/base",
      "_view_module_version": "1.2.0",
      "_view_name": "LayoutView",
      "align_content": null,
      "align_items": null,
      "align_self": null,
      "border": null,
      "bottom": null,
      "display": null,
      "flex": null,
      "flex_flow": null,
      "grid_area": null,
      "grid_auto_columns": null,
      "grid_auto_flow": null,
      "grid_auto_rows": null,
      "grid_column": null,
      "grid_gap": null,
      "grid_row": null,
      "grid_template_areas": null,
      "grid_template_columns": null,
      "grid_template_rows": null,
      "height": null,
      "justify_content": null,
      "justify_items": null,
      "left": null,
      "margin": null,
      "max_height": null,
      "max_width": null,
      "min_height": null,
      "min_width": null,
      "object_fit": null,
      "object_position": null,
      "order": null,
      "overflow": null,
      "overflow_x": null,
      "overflow_y": null,
      "padding": null,
      "right": null,
      "top": null,
      "visibility": null,
      "width": null
     }
    },
    "8ff7483674d34c5eb2513f1ab3ae3aa0": {
     "model_module": "@jupyter-widgets/controls",
     "model_module_version": "1.5.0",
     "model_name": "HTMLModel",
     "state": {
      "_dom_classes": [],
      "_model_module": "@jupyter-widgets/controls",
      "_model_module_version": "1.5.0",
      "_model_name": "HTMLModel",
      "_view_count": null,
      "_view_module": "@jupyter-widgets/controls",
      "_view_module_version": "1.5.0",
      "_view_name": "HTMLView",
      "description": "",
      "description_tooltip": null,
      "layout": "IPY_MODEL_4c700d1b58bf46fd9ec7947b1dd9475b",
      "placeholder": "​",
      "style": "IPY_MODEL_92bfe1673d014040bfeae43ccfe47c71",
      "value": " 25/25 [06:18&lt;00:00, 14.63s/it]"
     }
    },
    "92bfe1673d014040bfeae43ccfe47c71": {
     "model_module": "@jupyter-widgets/controls",
     "model_module_version": "1.5.0",
     "model_name": "DescriptionStyleModel",
     "state": {
      "_model_module": "@jupyter-widgets/controls",
      "_model_module_version": "1.5.0",
      "_model_name": "DescriptionStyleModel",
      "_view_count": null,
      "_view_module": "@jupyter-widgets/base",
      "_view_module_version": "1.2.0",
      "_view_name": "StyleView",
      "description_width": ""
     }
    },
    "93519b927eb6463aa6b6b5e59ecc385b": {
     "model_module": "@jupyter-widgets/controls",
     "model_module_version": "1.5.0",
     "model_name": "DescriptionStyleModel",
     "state": {
      "_model_module": "@jupyter-widgets/controls",
      "_model_module_version": "1.5.0",
      "_model_name": "DescriptionStyleModel",
      "_view_count": null,
      "_view_module": "@jupyter-widgets/base",
      "_view_module_version": "1.2.0",
      "_view_name": "StyleView",
      "description_width": ""
     }
    },
    "a3c99f2afb4a4f25bbed13fb9106418c": {
     "model_module": "@jupyter-widgets/base",
     "model_module_version": "1.2.0",
     "model_name": "LayoutModel",
     "state": {
      "_model_module": "@jupyter-widgets/base",
      "_model_module_version": "1.2.0",
      "_model_name": "LayoutModel",
      "_view_count": null,
      "_view_module": "@jupyter-widgets/base",
      "_view_module_version": "1.2.0",
      "_view_name": "LayoutView",
      "align_content": null,
      "align_items": null,
      "align_self": null,
      "border": null,
      "bottom": null,
      "display": null,
      "flex": null,
      "flex_flow": null,
      "grid_area": null,
      "grid_auto_columns": null,
      "grid_auto_flow": null,
      "grid_auto_rows": null,
      "grid_column": null,
      "grid_gap": null,
      "grid_row": null,
      "grid_template_areas": null,
      "grid_template_columns": null,
      "grid_template_rows": null,
      "height": null,
      "justify_content": null,
      "justify_items": null,
      "left": null,
      "margin": null,
      "max_height": null,
      "max_width": null,
      "min_height": null,
      "min_width": null,
      "object_fit": null,
      "object_position": null,
      "order": null,
      "overflow": null,
      "overflow_x": null,
      "overflow_y": null,
      "padding": null,
      "right": null,
      "top": null,
      "visibility": null,
      "width": null
     }
    },
    "ae7e213db20945218147593dc2db1f37": {
     "model_module": "@jupyter-widgets/base",
     "model_module_version": "1.2.0",
     "model_name": "LayoutModel",
     "state": {
      "_model_module": "@jupyter-widgets/base",
      "_model_module_version": "1.2.0",
      "_model_name": "LayoutModel",
      "_view_count": null,
      "_view_module": "@jupyter-widgets/base",
      "_view_module_version": "1.2.0",
      "_view_name": "LayoutView",
      "align_content": null,
      "align_items": null,
      "align_self": null,
      "border": null,
      "bottom": null,
      "display": null,
      "flex": null,
      "flex_flow": null,
      "grid_area": null,
      "grid_auto_columns": null,
      "grid_auto_flow": null,
      "grid_auto_rows": null,
      "grid_column": null,
      "grid_gap": null,
      "grid_row": null,
      "grid_template_areas": null,
      "grid_template_columns": null,
      "grid_template_rows": null,
      "height": null,
      "justify_content": null,
      "justify_items": null,
      "left": null,
      "margin": null,
      "max_height": null,
      "max_width": null,
      "min_height": null,
      "min_width": null,
      "object_fit": null,
      "object_position": null,
      "order": null,
      "overflow": null,
      "overflow_x": null,
      "overflow_y": null,
      "padding": null,
      "right": null,
      "top": null,
      "visibility": null,
      "width": null
     }
    },
    "b9195ef646fa4f0fb218ce896b07de91": {
     "model_module": "@jupyter-widgets/controls",
     "model_module_version": "1.5.0",
     "model_name": "DescriptionStyleModel",
     "state": {
      "_model_module": "@jupyter-widgets/controls",
      "_model_module_version": "1.5.0",
      "_model_name": "DescriptionStyleModel",
      "_view_count": null,
      "_view_module": "@jupyter-widgets/base",
      "_view_module_version": "1.2.0",
      "_view_name": "StyleView",
      "description_width": ""
     }
    },
    "bc9e76280bac4db2885a54af24cff6c7": {
     "model_module": "@jupyter-widgets/controls",
     "model_module_version": "1.5.0",
     "model_name": "HTMLModel",
     "state": {
      "_dom_classes": [],
      "_model_module": "@jupyter-widgets/controls",
      "_model_module_version": "1.5.0",
      "_model_name": "HTMLModel",
      "_view_count": null,
      "_view_module": "@jupyter-widgets/controls",
      "_view_module_version": "1.5.0",
      "_view_name": "HTMLView",
      "description": "",
      "description_tooltip": null,
      "layout": "IPY_MODEL_8f25b5d33aee458a86da5b1b445dc81d",
      "placeholder": "​",
      "style": "IPY_MODEL_b9195ef646fa4f0fb218ce896b07de91",
      "value": "100%"
     }
    },
    "be29d8e42fad4562a1fdf9118bb9696e": {
     "model_module": "@jupyter-widgets/controls",
     "model_module_version": "1.5.0",
     "model_name": "ProgressStyleModel",
     "state": {
      "_model_module": "@jupyter-widgets/controls",
      "_model_module_version": "1.5.0",
      "_model_name": "ProgressStyleModel",
      "_view_count": null,
      "_view_module": "@jupyter-widgets/base",
      "_view_module_version": "1.2.0",
      "_view_name": "StyleView",
      "bar_color": null,
      "description_width": ""
     }
    },
    "c3c4a848ee3a420f8a799f4719001129": {
     "model_module": "@jupyter-widgets/controls",
     "model_module_version": "1.5.0",
     "model_name": "HTMLModel",
     "state": {
      "_dom_classes": [],
      "_model_module": "@jupyter-widgets/controls",
      "_model_module_version": "1.5.0",
      "_model_name": "HTMLModel",
      "_view_count": null,
      "_view_module": "@jupyter-widgets/controls",
      "_view_module_version": "1.5.0",
      "_view_name": "HTMLView",
      "description": "",
      "description_tooltip": null,
      "layout": "IPY_MODEL_6040da1956b842afbbde87d6e174c3ec",
      "placeholder": "​",
      "style": "IPY_MODEL_93519b927eb6463aa6b6b5e59ecc385b",
      "value": " 20/20 [04:37&lt;00:00, 13.79s/it]"
     }
    },
    "cd0fe05a779f4675a6b90a156645e029": {
     "model_module": "@jupyter-widgets/base",
     "model_module_version": "1.2.0",
     "model_name": "LayoutModel",
     "state": {
      "_model_module": "@jupyter-widgets/base",
      "_model_module_version": "1.2.0",
      "_model_name": "LayoutModel",
      "_view_count": null,
      "_view_module": "@jupyter-widgets/base",
      "_view_module_version": "1.2.0",
      "_view_name": "LayoutView",
      "align_content": null,
      "align_items": null,
      "align_self": null,
      "border": null,
      "bottom": null,
      "display": null,
      "flex": null,
      "flex_flow": null,
      "grid_area": null,
      "grid_auto_columns": null,
      "grid_auto_flow": null,
      "grid_auto_rows": null,
      "grid_column": null,
      "grid_gap": null,
      "grid_row": null,
      "grid_template_areas": null,
      "grid_template_columns": null,
      "grid_template_rows": null,
      "height": null,
      "justify_content": null,
      "justify_items": null,
      "left": null,
      "margin": null,
      "max_height": null,
      "max_width": null,
      "min_height": null,
      "min_width": null,
      "object_fit": null,
      "object_position": null,
      "order": null,
      "overflow": null,
      "overflow_x": null,
      "overflow_y": null,
      "padding": null,
      "right": null,
      "top": null,
      "visibility": null,
      "width": null
     }
    },
    "fc1b985c490340a8aa30e67b309fd5c9": {
     "model_module": "@jupyter-widgets/base",
     "model_module_version": "1.2.0",
     "model_name": "LayoutModel",
     "state": {
      "_model_module": "@jupyter-widgets/base",
      "_model_module_version": "1.2.0",
      "_model_name": "LayoutModel",
      "_view_count": null,
      "_view_module": "@jupyter-widgets/base",
      "_view_module_version": "1.2.0",
      "_view_name": "LayoutView",
      "align_content": null,
      "align_items": null,
      "align_self": null,
      "border": null,
      "bottom": null,
      "display": null,
      "flex": null,
      "flex_flow": null,
      "grid_area": null,
      "grid_auto_columns": null,
      "grid_auto_flow": null,
      "grid_auto_rows": null,
      "grid_column": null,
      "grid_gap": null,
      "grid_row": null,
      "grid_template_areas": null,
      "grid_template_columns": null,
      "grid_template_rows": null,
      "height": null,
      "justify_content": null,
      "justify_items": null,
      "left": null,
      "margin": null,
      "max_height": null,
      "max_width": null,
      "min_height": null,
      "min_width": null,
      "object_fit": null,
      "object_position": null,
      "order": null,
      "overflow": null,
      "overflow_x": null,
      "overflow_y": null,
      "padding": null,
      "right": null,
      "top": null,
      "visibility": null,
      "width": null
     }
    }
   }
  }
 },
 "nbformat": 4,
 "nbformat_minor": 1
}
